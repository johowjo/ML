{
  "nbformat": 4,
  "nbformat_minor": 0,
  "metadata": {
    "colab": {
      "provenance": [],
      "gpuType": "T4"
    },
    "kernelspec": {
      "name": "python3",
      "display_name": "Python 3"
    },
    "language_info": {
      "name": "python"
    },
    "accelerator": "GPU"
  },
  "cells": [
    {
      "cell_type": "markdown",
      "source": [
        "# Training Transformer\n",
        "\n",
        "### TA's Slide\n",
        "[Slide](https://docs.google.com/presentation/d/1ga0d43mWyrfHjdkp7FG3iWcEKTGr8CdkifYhhi4LBY8/edit?usp=sharing)\n",
        "\n",
        "### Description\n",
        "In this assignment, we are tasked with utilizing a transformer decoder-only architecture for pretraining, with a focus on next-token prediction, applied to Pokémon images.\n",
        "\n",
        "Please feel free to mail us if you have any questions.\n",
        "\n",
        "ntu-ml-2025-spring-ta@googlegroups.com"
      ],
      "metadata": {
        "id": "QUwfibz3pw_R"
      }
    },
    {
      "cell_type": "markdown",
      "source": [
        "# Utilities"
      ],
      "metadata": {
        "id": "8TSNIY5SAZUR"
      }
    },
    {
      "cell_type": "markdown",
      "source": [
        "### Download packages"
      ],
      "metadata": {
        "id": "LlFjd2Jya7Me"
      }
    },
    {
      "cell_type": "code",
      "source": [
        "!pip install datasets==3.3.2"
      ],
      "metadata": {
        "colab": {
          "base_uri": "https://localhost:8080/"
        },
        "id": "fLdY0QcGsfii",
        "outputId": "1759b61b-e4a5-487b-f457-138561b04372"
      },
      "execution_count": 17,
      "outputs": [
        {
          "output_type": "stream",
          "name": "stdout",
          "text": [
            "Requirement already satisfied: datasets==3.3.2 in /usr/local/lib/python3.11/dist-packages (3.3.2)\n",
            "Requirement already satisfied: filelock in /usr/local/lib/python3.11/dist-packages (from datasets==3.3.2) (3.18.0)\n",
            "Requirement already satisfied: numpy>=1.17 in /usr/local/lib/python3.11/dist-packages (from datasets==3.3.2) (2.0.2)\n",
            "Requirement already satisfied: pyarrow>=15.0.0 in /usr/local/lib/python3.11/dist-packages (from datasets==3.3.2) (18.1.0)\n",
            "Requirement already satisfied: dill<0.3.9,>=0.3.0 in /usr/local/lib/python3.11/dist-packages (from datasets==3.3.2) (0.3.8)\n",
            "Requirement already satisfied: pandas in /usr/local/lib/python3.11/dist-packages (from datasets==3.3.2) (2.2.2)\n",
            "Requirement already satisfied: requests>=2.32.2 in /usr/local/lib/python3.11/dist-packages (from datasets==3.3.2) (2.32.3)\n",
            "Requirement already satisfied: tqdm>=4.66.3 in /usr/local/lib/python3.11/dist-packages (from datasets==3.3.2) (4.67.1)\n",
            "Requirement already satisfied: xxhash in /usr/local/lib/python3.11/dist-packages (from datasets==3.3.2) (3.5.0)\n",
            "Requirement already satisfied: multiprocess<0.70.17 in /usr/local/lib/python3.11/dist-packages (from datasets==3.3.2) (0.70.16)\n",
            "Requirement already satisfied: fsspec<=2024.12.0,>=2023.1.0 in /usr/local/lib/python3.11/dist-packages (from fsspec[http]<=2024.12.0,>=2023.1.0->datasets==3.3.2) (2024.12.0)\n",
            "Requirement already satisfied: aiohttp in /usr/local/lib/python3.11/dist-packages (from datasets==3.3.2) (3.11.15)\n",
            "Requirement already satisfied: huggingface-hub>=0.24.0 in /usr/local/lib/python3.11/dist-packages (from datasets==3.3.2) (0.30.1)\n",
            "Requirement already satisfied: packaging in /usr/local/lib/python3.11/dist-packages (from datasets==3.3.2) (24.2)\n",
            "Requirement already satisfied: pyyaml>=5.1 in /usr/local/lib/python3.11/dist-packages (from datasets==3.3.2) (6.0.2)\n",
            "Requirement already satisfied: aiohappyeyeballs>=2.3.0 in /usr/local/lib/python3.11/dist-packages (from aiohttp->datasets==3.3.2) (2.6.1)\n",
            "Requirement already satisfied: aiosignal>=1.1.2 in /usr/local/lib/python3.11/dist-packages (from aiohttp->datasets==3.3.2) (1.3.2)\n",
            "Requirement already satisfied: attrs>=17.3.0 in /usr/local/lib/python3.11/dist-packages (from aiohttp->datasets==3.3.2) (25.3.0)\n",
            "Requirement already satisfied: frozenlist>=1.1.1 in /usr/local/lib/python3.11/dist-packages (from aiohttp->datasets==3.3.2) (1.5.0)\n",
            "Requirement already satisfied: multidict<7.0,>=4.5 in /usr/local/lib/python3.11/dist-packages (from aiohttp->datasets==3.3.2) (6.2.0)\n",
            "Requirement already satisfied: propcache>=0.2.0 in /usr/local/lib/python3.11/dist-packages (from aiohttp->datasets==3.3.2) (0.3.1)\n",
            "Requirement already satisfied: yarl<2.0,>=1.17.0 in /usr/local/lib/python3.11/dist-packages (from aiohttp->datasets==3.3.2) (1.18.3)\n",
            "Requirement already satisfied: typing-extensions>=3.7.4.3 in /usr/local/lib/python3.11/dist-packages (from huggingface-hub>=0.24.0->datasets==3.3.2) (4.13.1)\n",
            "Requirement already satisfied: charset-normalizer<4,>=2 in /usr/local/lib/python3.11/dist-packages (from requests>=2.32.2->datasets==3.3.2) (3.4.1)\n",
            "Requirement already satisfied: idna<4,>=2.5 in /usr/local/lib/python3.11/dist-packages (from requests>=2.32.2->datasets==3.3.2) (3.10)\n",
            "Requirement already satisfied: urllib3<3,>=1.21.1 in /usr/local/lib/python3.11/dist-packages (from requests>=2.32.2->datasets==3.3.2) (2.3.0)\n",
            "Requirement already satisfied: certifi>=2017.4.17 in /usr/local/lib/python3.11/dist-packages (from requests>=2.32.2->datasets==3.3.2) (2025.1.31)\n",
            "Requirement already satisfied: python-dateutil>=2.8.2 in /usr/local/lib/python3.11/dist-packages (from pandas->datasets==3.3.2) (2.8.2)\n",
            "Requirement already satisfied: pytz>=2020.1 in /usr/local/lib/python3.11/dist-packages (from pandas->datasets==3.3.2) (2025.2)\n",
            "Requirement already satisfied: tzdata>=2022.7 in /usr/local/lib/python3.11/dist-packages (from pandas->datasets==3.3.2) (2025.2)\n",
            "Requirement already satisfied: six>=1.5 in /usr/local/lib/python3.11/dist-packages (from python-dateutil>=2.8.2->pandas->datasets==3.3.2) (1.17.0)\n"
          ]
        }
      ]
    },
    {
      "cell_type": "markdown",
      "source": [
        "### Import Packages"
      ],
      "metadata": {
        "id": "kY7XIt-Msf5K"
      }
    },
    {
      "cell_type": "code",
      "source": [
        "import os\n",
        "import matplotlib.pyplot as plt\n",
        "import numpy as np\n",
        "import torch\n",
        "import torch.optim as optim\n",
        "from PIL import Image\n",
        "from torch import nn\n",
        "from torch.utils.data import DataLoader, Dataset\n",
        "from tqdm import tqdm\n",
        "from transformers import AutoModelForCausalLM, GPT2Config, set_seed\n",
        "from datasets import load_dataset\n",
        "from typing import Dict, Any, Optional"
      ],
      "metadata": {
        "id": "OJ_4mAauKFu1"
      },
      "execution_count": 18,
      "outputs": []
    },
    {
      "cell_type": "markdown",
      "source": [
        "### Check Devices"
      ],
      "metadata": {
        "id": "WixuPQuGbG_z"
      }
    },
    {
      "cell_type": "code",
      "source": [
        "!nvidia-smi"
      ],
      "metadata": {
        "colab": {
          "base_uri": "https://localhost:8080/"
        },
        "id": "9COb5XCNbJA_",
        "outputId": "9e78ba5d-0304-4612-de96-9beb56e812c7"
      },
      "execution_count": 19,
      "outputs": [
        {
          "output_type": "stream",
          "name": "stdout",
          "text": [
            "Thu Apr 10 07:06:24 2025       \n",
            "+-----------------------------------------------------------------------------------------+\n",
            "| NVIDIA-SMI 550.54.15              Driver Version: 550.54.15      CUDA Version: 12.4     |\n",
            "|-----------------------------------------+------------------------+----------------------+\n",
            "| GPU  Name                 Persistence-M | Bus-Id          Disp.A | Volatile Uncorr. ECC |\n",
            "| Fan  Temp   Perf          Pwr:Usage/Cap |           Memory-Usage | GPU-Util  Compute M. |\n",
            "|                                         |                        |               MIG M. |\n",
            "|=========================================+========================+======================|\n",
            "|   0  Tesla T4                       Off |   00000000:00:04.0 Off |                    0 |\n",
            "| N/A   57C    P0             28W /   70W |    1400MiB /  15360MiB |      0%      Default |\n",
            "|                                         |                        |                  N/A |\n",
            "+-----------------------------------------+------------------------+----------------------+\n",
            "                                                                                         \n",
            "+-----------------------------------------------------------------------------------------+\n",
            "| Processes:                                                                              |\n",
            "|  GPU   GI   CI        PID   Type   Process name                              GPU Memory |\n",
            "|        ID   ID                                                               Usage      |\n",
            "|=========================================================================================|\n",
            "+-----------------------------------------------------------------------------------------+\n"
          ]
        }
      ]
    },
    {
      "cell_type": "markdown",
      "source": [
        "### Set Random Seed"
      ],
      "metadata": {
        "id": "plHUxP_oeh2U"
      }
    },
    {
      "cell_type": "code",
      "source": [
        "set_seed(0)"
      ],
      "metadata": {
        "id": "Z3YIraV3ehgv"
      },
      "execution_count": 20,
      "outputs": []
    },
    {
      "cell_type": "markdown",
      "source": [
        "# Prepare Data"
      ],
      "metadata": {
        "id": "w4p3ErI1AaYq"
      }
    },
    {
      "cell_type": "markdown",
      "source": [
        "### Define Dataset"
      ],
      "metadata": {
        "id": "1J0xr161bREA"
      }
    },
    {
      "cell_type": "code",
      "source": [
        "from typing import List, Tuple, Union\n",
        "import torch\n",
        "from torch.utils.data import Dataset\n",
        "\n",
        "class PixelSequenceDataset(Dataset):\n",
        "    def __init__(self, data: List[List[int]], mode: str = \"train\"):\n",
        "        \"\"\"\n",
        "        A dataset class for handling pixel sequences.\n",
        "\n",
        "        Args:\n",
        "            data (List[List[int]]): A list of sequences, where each sequence is a list of integers.\n",
        "            mode (str): The mode of operation, either \"train\", \"dev\", or \"test\".\n",
        "                - \"train\": Returns (input_ids, labels) where input_ids are sequence[:-1] and labels are sequence[1:].\n",
        "                - \"dev\": Returns (input_ids, labels) where input_ids are sequence[:-160] and labels are sequence[-160:].\n",
        "                - \"test\": Returns only input_ids, as labels are not available.\n",
        "        \"\"\"\n",
        "        self.data = data\n",
        "        self.mode = mode\n",
        "\n",
        "    def __len__(self) -> int:\n",
        "        \"\"\"Returns the total number of sequences in the dataset.\"\"\"\n",
        "        return len(self.data)\n",
        "\n",
        "    def __getitem__(self, idx: int) -> Union[Tuple[torch.Tensor, torch.Tensor], torch.Tensor]:\n",
        "        \"\"\"\n",
        "        Fetches a sequence from the dataset and processes it based on the mode.\n",
        "\n",
        "        Args:\n",
        "            idx (int): The index of the sequence.\n",
        "\n",
        "        Returns:\n",
        "            - If mode == \"train\": Tuple[torch.Tensor, torch.Tensor] -> (input_ids, labels)\n",
        "            - If mode == \"dev\": Tuple[torch.Tensor, torch.Tensor] -> (input_ids, labels)\n",
        "            - If mode == \"test\": torch.Tensor -> input_ids\n",
        "        \"\"\"\n",
        "        sequence = self.data[idx]\n",
        "\n",
        "        if self.mode == \"train\":\n",
        "            input_ids = torch.tensor(sequence[:-1], dtype=torch.long)\n",
        "            labels = torch.tensor(sequence[1:], dtype=torch.long)\n",
        "            return input_ids, labels\n",
        "\n",
        "        elif self.mode == \"dev\":\n",
        "            input_ids = torch.tensor(sequence[:-160], dtype=torch.long)\n",
        "            labels = torch.tensor(sequence[-160:], dtype=torch.long)\n",
        "            return input_ids, labels\n",
        "\n",
        "        elif self.mode == \"test\":\n",
        "            input_ids = torch.tensor(sequence, dtype=torch.long)\n",
        "            return input_ids\n",
        "\n",
        "        raise ValueError(f\"Invalid mode: {self.mode}. Choose from 'train', 'dev', or 'test'.\")"
      ],
      "metadata": {
        "id": "Bi9YvYn3uD32"
      },
      "execution_count": 21,
      "outputs": []
    },
    {
      "cell_type": "markdown",
      "source": [
        "### Download Dataset & Prepare Dataloader"
      ],
      "metadata": {
        "id": "zY6TJDuNbdTr"
      }
    },
    {
      "cell_type": "code",
      "source": [
        "# Load the pokemon dataset from Hugging Face Hub\n",
        "pokemon_dataset = load_dataset(\"lca0503/ml2025-hw4-pokemon\")\n",
        "\n",
        "# Load the colormap from Hugging Face Hub\n",
        "colormap = list(load_dataset(\"lca0503/ml2025-hw4-colormap\")[\"train\"][\"color\"])\n",
        "\n",
        "# Define number of classes\n",
        "num_classes = len(colormap)\n",
        "\n",
        "# Define batch size\n",
        "batch_size = 16\n",
        "\n",
        "# === Prepare Dataset and DataLoader for Training ===\n",
        "train_dataset: PixelSequenceDataset = PixelSequenceDataset(\n",
        "    pokemon_dataset[\"train\"][\"pixel_color\"], mode=\"train\"\n",
        ")\n",
        "train_dataloader: DataLoader = DataLoader(\n",
        "    train_dataset, batch_size=batch_size, shuffle=True\n",
        ")\n",
        "\n",
        "# === Prepare Dataset and DataLoader for Validation ===\n",
        "dev_dataset: PixelSequenceDataset = PixelSequenceDataset(\n",
        "    pokemon_dataset[\"dev\"][\"pixel_color\"], mode=\"dev\"\n",
        ")\n",
        "dev_dataloader: DataLoader = DataLoader(\n",
        "    dev_dataset, batch_size=batch_size, shuffle=False\n",
        ")\n",
        "\n",
        "# === Prepare Dataset and DataLoader for Testing ===\n",
        "test_dataset: PixelSequenceDataset = PixelSequenceDataset(\n",
        "    pokemon_dataset[\"test\"][\"pixel_color\"], mode=\"test\"\n",
        ")\n",
        "test_dataloader: DataLoader = DataLoader(\n",
        "    test_dataset, batch_size=batch_size, shuffle=False\n",
        ")"
      ],
      "metadata": {
        "id": "lHXfCPXoBEUD"
      },
      "execution_count": 22,
      "outputs": []
    },
    {
      "cell_type": "markdown",
      "source": [
        "### Visualization"
      ],
      "metadata": {
        "id": "Ink91WB5BGxv"
      }
    },
    {
      "cell_type": "code",
      "source": [
        "def pixel_to_image(pixel_color: List[int], colormap: List[List[int]]) -> Image.Image:\n",
        "    \"\"\"\n",
        "    Converts a list of pixel indices into a 20x20 RGB image using a colormap.\n",
        "\n",
        "    Args:\n",
        "        pixel_color (List[int]): A list of pixel indices representing colors.\n",
        "        colormap (List[List[int]]): A list where each index maps to an RGB color [R, G, B].\n",
        "\n",
        "    Returns:\n",
        "        Image.Image: A PIL Image object representing the reconstructed image.\n",
        "    \"\"\"\n",
        "    # Ensure the pixel_color list has at least 400 elements (pad with 0s if needed)\n",
        "    while len(pixel_color) < 400:\n",
        "        pixel_color.append(0)\n",
        "\n",
        "    # Map pixel indices to actual RGB colors using the colormap\n",
        "    pixel_data = [colormap[pixel] for pixel in pixel_color]\n",
        "\n",
        "    # Convert to numpy array and reshape to 20x20x3 (RGB image)\n",
        "    image_array = np.array(pixel_data, dtype=np.uint8).reshape(20, 20, 3)\n",
        "\n",
        "    # Create a PIL Image from the array\n",
        "    image = Image.fromarray(image_array)\n",
        "\n",
        "    return image\n",
        "\n",
        "def show_images(images: List[Image.Image]) -> None:\n",
        "    \"\"\"\n",
        "    Displays a grid of up to 96 images using Matplotlib.\n",
        "\n",
        "    Args:\n",
        "        images (List[Image.Image]): A list of PIL Image objects to display.\n",
        "\n",
        "    Returns:\n",
        "        None\n",
        "    \"\"\"\n",
        "    num_images = min(96, len(images))  # Limit to 96 images\n",
        "\n",
        "    # Set up the figure size and grid layout (6 rows, 16 columns)\n",
        "    fig, axes = plt.subplots(6, 16, figsize=(16, 6))\n",
        "    axes = axes.flatten()  # Flatten to make iteration easier\n",
        "\n",
        "    # Loop through images and display each one in the grid\n",
        "    for i, ax in enumerate(axes):\n",
        "        if i < num_images:\n",
        "            ax.imshow(images[i])\n",
        "            ax.axis('off')  # Hide axis\n",
        "        else:\n",
        "            ax.axis('off')  # Hide unused subplots\n",
        "\n",
        "    plt.tight_layout()  # Adjust layout to prevent overlap\n",
        "    plt.show()"
      ],
      "metadata": {
        "id": "ARCMjCUfBGV9"
      },
      "execution_count": 23,
      "outputs": []
    },
    {
      "cell_type": "code",
      "source": [
        "# Visualize train images\n",
        "train_images = [pixel_to_image(data[\"pixel_color\"], colormap) for data in pokemon_dataset[\"train\"]]\n",
        "show_images(train_images)"
      ],
      "metadata": {
        "colab": {
          "base_uri": "https://localhost:8080/",
          "height": 572
        },
        "id": "706fqI8NBJGm",
        "outputId": "981533a4-51af-4496-92bb-0f3156aeea6c"
      },
      "execution_count": 24,
      "outputs": [
        {
          "output_type": "display_data",
          "data": {
            "text/plain": [
              "<Figure size 1600x600 with 96 Axes>"
            ],
            "image/png": "[encoded data removed]"
          },
          "metadata": {}
        }
      ]
    },
    {
      "cell_type": "code",
      "source": [
        "# Visualize test images\n",
        "test_images = [pixel_to_image(data[\"pixel_color\"], colormap) for data in pokemon_dataset[\"test\"]]\n",
        "show_images(test_images)"
      ],
      "metadata": {
        "colab": {
          "base_uri": "https://localhost:8080/",
          "height": 572
        },
        "id": "QtllXoTLBKXk",
        "outputId": "1f68b784-40c5-4773-9697-693e1a1f7f3b"
      },
      "execution_count": 25,
      "outputs": [
        {
          "output_type": "display_data",
          "data": {
            "text/plain": [
              "<Figure size 1600x600 with 96 Axes>"
            ],
            "image/png": "[encoded data removed]"
          },
          "metadata": {}
        }
      ]
    },
    {
      "cell_type": "markdown",
      "source": [
        "# Prepare Model"
      ],
      "metadata": {
        "id": "wjbJUIxzBNEH"
      }
    },
    {
      "cell_type": "markdown",
      "source": [
        "### Model Configuration\n",
        "Here, we define the model configuration, including the architecture and key hyperparameters such as the number of attention heads, layers, embedding size, and more.\n",
        "*   Hint 1: Adjust hyperparameters here for improved performance.\n",
        "*   Hint 2: Experiment with different model architectures, such as Llama, Mistral, or Qwen, to enhance performance.\n",
        "  * [LlamaConfig](https://huggingface.co/docs/transformers/model_doc/llama#transformers.LlamaConfig)\n",
        "  * [MistralConfig](https://huggingface.co/docs/transformers/model_doc/mistral#transformers.MistralConfig)\n",
        "  * [Qwen2Config](https://huggingface.co/docs/transformers/model_doc/qwen2#transformers.Qwen2Config)\n"
      ],
      "metadata": {
        "id": "o541odctzSc9"
      }
    },
    {
      "cell_type": "code",
      "source": [
        "from transformers import Qwen2Config, MistralConfig\n",
        "# Define GPT-2 model configuration as a dictionary\n",
        "gpt2_config = {\n",
        "    \"activation_function\": \"gelu_new\",    # Activation function used in the model\n",
        "    \"architectures\": [\"GPT2LMHeadModel\"],  # Specifies the model type\n",
        "    \"attn_pdrop\": 0.1,            # Dropout rate for attention layers\n",
        "    \"embd_pdrop\": 0.1,            # Dropout rate for embeddings\n",
        "    \"initializer_range\": 0.02,        # Standard deviation for weight initialization\n",
        "    \"layer_norm_epsilon\": 1e-05,       # Small constant to improve numerical stability in layer norm\n",
        "    \"model_type\": \"gpt2\",           # Type of model\n",
        "    \"n_ctx\": 128,               # Context size (maximum sequence length)\n",
        "    \"n_embd\": 64,              # Embedding size\n",
        "    \"n_head\": 2,               # Number of attention heads\n",
        "    \"n_layer\": 2,              # Number of transformer layers\n",
        "    \"n_positions\": 400,           # Maximum number of token positions\n",
        "    \"resid_pdrop\": 0.1,           # Dropout rate for residual connections\n",
        "    \"vocab_size\": num_classes,       # Number of unique tokens in vocabulary\n",
        "    \"pad_token_id\": None,          # Padding token ID (None means no padding token)\n",
        "    \"eos_token_id\": None,          # End-of-sequence token ID (None means not explicitly defined)\n",
        "}\n",
        "mistral_config = {\n",
        "    \"architectures\": [\"MistralForCausalLM\"],  # Model class\n",
        "    \"model_type\": \"mistral\",                  # Model identifier\n",
        "    \"hidden_size\": 256,                        # Equivalent to n_embd\n",
        "    \"intermediate_size\": 1024,                 # Feedforward size (usually 4x hidden_size)\n",
        "    \"num_attention_heads\": 4,                 # Equivalent to n_head\n",
        "    \"num_hidden_layers\": 5,                   # Equivalent to n_layer\n",
        "    \"max_position_embeddings\": 400,           # Equivalent to n_positions\n",
        "    \"rms_norm_eps\": 1e-05,                    # Equivalent to layer_norm_epsilon\n",
        "    \"vocab_size\": num_classes,                # Vocabulary size\n",
        "    \"attention_dropout\": 0.1,                 # Matches attn_pdrop\n",
        "    \"hidden_dropout\": 0.1,                    # Matches embd_pdrop and resid_pdrop\n",
        "    \"initializer_range\": 0.02,\n",
        "    \"rope_theta\": 10000.0,                    # Standard RoPE base\n",
        "    \"rope_scaling\": None,                     # Disable RoPE scaling\n",
        "    \"sliding_window\": 128,                    # Equivalent to n_ctx\n",
        "    \"tie_word_embeddings\": False,\n",
        "    \"pad_token_id\": None,\n",
        "    \"eos_token_id\": None,\n",
        "    \"use_cache\": True,\n",
        "    \"hidden_act\": \"silu\",                     # Mistral typically uses SiLU; no gelu/gelu_new in original\n",
        "}\n",
        "\n",
        "# Load GPT-2 model configuration from dictionary\n",
        "config = GPT2Config.from_dict(mistral_config)"
      ],
      "metadata": {
        "id": "pDpLtOZBzU3o"
      },
      "execution_count": 26,
      "outputs": []
    },
    {
      "cell_type": "markdown",
      "source": [
        "### Load Model"
      ],
      "metadata": {
        "id": "JCOELUm4ujej"
      }
    },
    {
      "cell_type": "code",
      "source": [
        "# Load the model using the configuration defined above\n",
        "model = AutoModelForCausalLM.from_config(config)\n",
        "\n",
        "print(model)\n",
        "\n",
        "# Count trainable parameters\n",
        "trainable_params = sum(p.numel() for p in model.parameters() if p.requires_grad)\n",
        "\n",
        "print(f\"Trainable Parameters: {trainable_params:,}\")"
      ],
      "metadata": {
        "colab": {
          "base_uri": "https://localhost:8080/"
        },
        "id": "4U4JxNF5CFG6",
        "outputId": "cc7f931b-2954-4ab5-a5c1-9d4d0d40f8cd"
      },
      "execution_count": 27,
      "outputs": [
        {
          "output_type": "stream",
          "name": "stdout",
          "text": [
            "GPT2LMHeadModel(\n",
            "  (transformer): GPT2Model(\n",
            "    (wte): Embedding(167, 256)\n",
            "    (wpe): Embedding(400, 256)\n",
            "    (drop): Dropout(p=0.1, inplace=False)\n",
            "    (h): ModuleList(\n",
            "      (0-4): 5 x GPT2Block(\n",
            "        (ln_1): LayerNorm((256,), eps=1e-05, elementwise_affine=True)\n",
            "        (attn): GPT2Attention(\n",
            "          (c_attn): Conv1D(nf=768, nx=256)\n",
            "          (c_proj): Conv1D(nf=256, nx=256)\n",
            "          (attn_dropout): Dropout(p=0.1, inplace=False)\n",
            "          (resid_dropout): Dropout(p=0.1, inplace=False)\n",
            "        )\n",
            "        (ln_2): LayerNorm((256,), eps=1e-05, elementwise_affine=True)\n",
            "        (mlp): GPT2MLP(\n",
            "          (c_fc): Conv1D(nf=1024, nx=256)\n",
            "          (c_proj): Conv1D(nf=256, nx=1024)\n",
            "          (act): NewGELUActivation()\n",
            "          (dropout): Dropout(p=0.1, inplace=False)\n",
            "        )\n",
            "      )\n",
            "    )\n",
            "    (ln_f): LayerNorm((256,), eps=1e-05, elementwise_affine=True)\n",
            "  )\n",
            "  (lm_head): Linear(in_features=256, out_features=167, bias=False)\n",
            ")\n",
            "Trainable Parameters: 4,137,216\n"
          ]
        }
      ]
    },
    {
      "cell_type": "markdown",
      "source": [
        "# Train and Inference"
      ],
      "metadata": {
        "id": "flJizztpCT01"
      }
    },
    {
      "cell_type": "markdown",
      "source": [
        "### Training Arguments\n",
        "Here, we define the number of epochs for training, the learning rate, the optimizer, and the loss function.\n",
        "*   Hint 3: Adjust the number of epochs and learning rate here to improve performance."
      ],
      "metadata": {
        "id": "d63rxnsCeHa9"
      }
    },
    {
      "cell_type": "code",
      "source": [
        "# Training Parameters\n",
        "epochs = 170                                      # Number of training epochs\n",
        "learning_rate = 1e-4                               # Learning rate for optimizer\n",
        "device = torch.device(\"cuda\" if torch.cuda.is_available() else \"cpu\")     # Check if CUDA is available for GPU\n",
        "save_dir = \"checkpoints\"                               # Directory to save model checkpoints\n",
        "\n",
        "# Loss function and optimizer\n",
        "criterion = nn.CrossEntropyLoss()                          # Loss function for classification tasks\n",
        "optimizer = optim.AdamW(model.parameters(), lr=learning_rate, weight_decay=0.1) # AdamW optimizer with weight decay"
      ],
      "metadata": {
        "id": "oJu31QhHeKBj"
      },
      "execution_count": 28,
      "outputs": []
    },
    {
      "cell_type": "markdown",
      "source": [
        "### Save Model Function"
      ],
      "metadata": {
        "id": "Xs2kjoD4d_bJ"
      }
    },
    {
      "cell_type": "code",
      "source": [
        "def save_model(model: torch.nn.Module, optimizer: torch.optim.Optimizer, epoch: int, loss: float, save_dir: str, filename: str = \"best_model.pth\") -> None:\n",
        "    \"\"\"\n",
        "    Saves the model state, optimizer state, current epoch, and loss to a specified directory.\n",
        "\n",
        "    Args:\n",
        "        model (torch.nn.Module): The PyTorch model to be saved.\n",
        "        optimizer (torch.optim.Optimizer): The optimizer whose state will be saved.\n",
        "        epoch (int): The current epoch number (used for checkpointing).\n",
        "        loss (float): The current loss value to track model performance.\n",
        "        save_dir (str): The directory where the model checkpoint will be saved.\n",
        "        filename (str, optional): The name of the file to save the model. Defaults to \"best_model.pth\".\n",
        "\n",
        "    Returns:\n",
        "        None\n",
        "    \"\"\"\n",
        "    # Construct the full path for saving the model checkpoint\n",
        "    save_path = os.path.join(save_dir, filename)\n",
        "\n",
        "    # Save the model, optimizer state, and additional metadata (epoch and loss)\n",
        "    torch.save({\n",
        "        'epoch': epoch + 1,                # Save epoch + 1 for easier tracking\n",
        "        'model_state_dict': model.state_dict(),       # Save model weights\n",
        "        'optimizer_state_dict': optimizer.state_dict(),  # Save optimizer state (important for resuming training)\n",
        "        'loss': loss                     # Save the current loss value\n",
        "    }, save_path)\n",
        "\n",
        "    # Print a confirmation message indicating the model has been saved\n",
        "    print(f\"Model saved at {save_path} (Loss: {loss:.4f}, Epoch: {epoch + 1})\")"
      ],
      "metadata": {
        "id": "ZakIXlw_NtDw"
      },
      "execution_count": 29,
      "outputs": []
    },
    {
      "cell_type": "markdown",
      "source": [
        "### Train\n",
        "\n",
        "We save the checkpoint with the lowest training loss since validation set reconstruction accuracy doesn't directly reflect the model's image generation quality.\n",
        "*   Hint 4: Train a classifier to check if an image looks like a Pokémon or not. (Optional)"
      ],
      "metadata": {
        "id": "I0OqYrJxoxx9"
      }
    },
    {
      "cell_type": "code",
      "source": [
        "# Create save directory if it doesn't exist\n",
        "os.makedirs(save_dir, exist_ok=True)\n",
        "# Initialize best loss as positive infinity for comparison during model checkpointing\n",
        "best_loss: float = float('inf')\n",
        "# Move model to the appropriate device (GPU or CPU)\n",
        "model.to(device)\n",
        "\n",
        "# Training Loop\n",
        "for epoch in range(epochs):\n",
        "    model.train()  # Set the model to training mode\n",
        "    epoch_loss = 0  # Initialize the epoch loss\n",
        "\n",
        "    # Iterate over training data batches\n",
        "    for input_ids, labels in tqdm(train_dataloader, desc=f\"Training Epoch {epoch + 1}/{epochs}\"):\n",
        "        input_ids, labels = input_ids.to(device), labels.to(device)  # Move data to the same device as the model\n",
        "\n",
        "        # Forward pass through the model to get logits (output probabilities)\n",
        "        outputs = model(input_ids=input_ids).logits.view(-1, config.vocab_size)\n",
        "        labels = labels.view(-1)  # Flatten labels to match logits shape\n",
        "\n",
        "        # Calculate loss using CrossEntropyLoss\n",
        "        loss = criterion(outputs, labels)\n",
        "\n",
        "        # Backpropagation and optimizer step\n",
        "        optimizer.zero_grad()  # Reset gradients to zero\n",
        "        loss.backward()     # Compute gradients\n",
        "        optimizer.step()     # Update model weights\n",
        "\n",
        "        # Accumulate the loss for the epoch\n",
        "        epoch_loss += loss.item()\n",
        "\n",
        "    # Compute average epoch loss\n",
        "    avg_epoch_loss = epoch_loss / len(train_dataloader)\n",
        "    print(f\"Epoch {epoch + 1}/{epochs}, Loss: {avg_epoch_loss:.4f}\")\n",
        "\n",
        "    # Evaluation Loop (Validation)\n",
        "    model.eval()      # Set the model to evaluation mode (disables dropout, etc.)\n",
        "    total_accuracy = 0  # Initialize total accuracy\n",
        "    num_batches = 0   # Initialize batch counter\n",
        "\n",
        "    with torch.no_grad():  # Disable gradient calculation for validation\n",
        "        # Iterate over validation data batches\n",
        "        for inputs, labels in tqdm(dev_dataloader, desc=\"Evaluating\"):\n",
        "            inputs, labels = inputs.to(device), labels.to(device)  # Move validation data to device\n",
        "            attention_mask = torch.ones_like(inputs)          # Attention mask to ensure valid token positions\n",
        "\n",
        "            # Perform batch inference using the model\n",
        "            generated_outputs = model.generate(inputs, attention_mask=attention_mask, max_length=400)\n",
        "\n",
        "            # Extract the last 160 tokens from generated outputs and labels\n",
        "            generated_outputs = generated_outputs[:, -160:]\n",
        "\n",
        "            # Calculate accuracy for the batch\n",
        "            accuracy = (generated_outputs == labels).float().mean().item()\n",
        "            total_accuracy += accuracy\n",
        "            num_batches += 1\n",
        "\n",
        "    # Compute average reconstruction accuracy for the epoch\n",
        "    avg_accuracy = total_accuracy / num_batches\n",
        "    print(f\"Epoch {epoch + 1}/{epochs}, Reconstruction Accuracy: {avg_accuracy:.4f}\")\n",
        "\n",
        "    # If the current epoch loss is better (lower) than the best loss, save the model\n",
        "    if avg_epoch_loss < best_loss:\n",
        "        best_loss = avg_epoch_loss                   # Update best loss\n",
        "        save_model(model, optimizer, epoch, best_loss, save_dir)  # Save the model with the best loss"
      ],
      "metadata": {
        "colab": {
          "base_uri": "https://localhost:8080/"
        },
        "id": "e1KHQ2UyCNh7",
        "outputId": "abbd1ea3-9e88-4f03-91a0-abb12c5aea85"
      },
      "execution_count": 30,
      "outputs": [
        {
          "output_type": "stream",
          "name": "stderr",
          "text": [
            "Training Epoch 1/170: 100%|██████████| 40/40 [00:03<00:00, 10.92it/s]\n"
          ]
        },
        {
          "output_type": "stream",
          "name": "stdout",
          "text": [
            "Epoch 1/170, Loss: 3.4161\n"
          ]
        },
        {
          "output_type": "stream",
          "name": "stderr",
          "text": [
            "Evaluating: 100%|██████████| 5/5 [00:09<00:00,  1.90s/it]\n"
          ]
        },
        {
          "output_type": "stream",
          "name": "stdout",
          "text": [
            "Epoch 1/170, Reconstruction Accuracy: 0.4096\n",
            "Model saved at checkpoints/best_model.pth (Loss: 3.4161, Epoch: 1)\n"
          ]
        },
        {
          "output_type": "stream",
          "name": "stderr",
          "text": [
            "Training Epoch 2/170: 100%|██████████| 40/40 [00:03<00:00, 10.69it/s]\n"
          ]
        },
        {
          "output_type": "stream",
          "name": "stdout",
          "text": [
            "Epoch 2/170, Loss: 2.7595\n"
          ]
        },
        {
          "output_type": "stream",
          "name": "stderr",
          "text": [
            "Evaluating: 100%|██████████| 5/5 [00:04<00:00,  1.20it/s]\n"
          ]
        },
        {
          "output_type": "stream",
          "name": "stdout",
          "text": [
            "Epoch 2/170, Reconstruction Accuracy: 0.4105\n",
            "Model saved at checkpoints/best_model.pth (Loss: 2.7595, Epoch: 2)\n"
          ]
        },
        {
          "output_type": "stream",
          "name": "stderr",
          "text": [
            "Training Epoch 3/170: 100%|██████████| 40/40 [00:03<00:00, 11.48it/s]\n"
          ]
        },
        {
          "output_type": "stream",
          "name": "stdout",
          "text": [
            "Epoch 3/170, Loss: 2.4895\n"
          ]
        },
        {
          "output_type": "stream",
          "name": "stderr",
          "text": [
            "Evaluating: 100%|██████████| 5/5 [00:04<00:00,  1.10it/s]\n"
          ]
        },
        {
          "output_type": "stream",
          "name": "stdout",
          "text": [
            "Epoch 3/170, Reconstruction Accuracy: 0.4020\n",
            "Model saved at checkpoints/best_model.pth (Loss: 2.4895, Epoch: 3)\n"
          ]
        },
        {
          "output_type": "stream",
          "name": "stderr",
          "text": [
            "Training Epoch 4/170: 100%|██████████| 40/40 [00:03<00:00, 11.53it/s]\n"
          ]
        },
        {
          "output_type": "stream",
          "name": "stdout",
          "text": [
            "Epoch 4/170, Loss: 2.3366\n"
          ]
        },
        {
          "output_type": "stream",
          "name": "stderr",
          "text": [
            "Evaluating: 100%|██████████| 5/5 [00:04<00:00,  1.08it/s]\n"
          ]
        },
        {
          "output_type": "stream",
          "name": "stdout",
          "text": [
            "Epoch 4/170, Reconstruction Accuracy: 0.4050\n",
            "Model saved at checkpoints/best_model.pth (Loss: 2.3366, Epoch: 4)\n"
          ]
        },
        {
          "output_type": "stream",
          "name": "stderr",
          "text": [
            "Training Epoch 5/170: 100%|██████████| 40/40 [00:03<00:00, 11.40it/s]\n"
          ]
        },
        {
          "output_type": "stream",
          "name": "stdout",
          "text": [
            "Epoch 5/170, Loss: 2.2297\n"
          ]
        },
        {
          "output_type": "stream",
          "name": "stderr",
          "text": [
            "Evaluating: 100%|██████████| 5/5 [00:04<00:00,  1.17it/s]\n"
          ]
        },
        {
          "output_type": "stream",
          "name": "stdout",
          "text": [
            "Epoch 5/170, Reconstruction Accuracy: 0.3908\n",
            "Model saved at checkpoints/best_model.pth (Loss: 2.2297, Epoch: 5)\n"
          ]
        },
        {
          "output_type": "stream",
          "name": "stderr",
          "text": [
            "Training Epoch 6/170: 100%|██████████| 40/40 [00:03<00:00, 11.37it/s]\n"
          ]
        },
        {
          "output_type": "stream",
          "name": "stdout",
          "text": [
            "Epoch 6/170, Loss: 2.1462\n"
          ]
        },
        {
          "output_type": "stream",
          "name": "stderr",
          "text": [
            "Evaluating: 100%|██████████| 5/5 [00:04<00:00,  1.09it/s]\n"
          ]
        },
        {
          "output_type": "stream",
          "name": "stdout",
          "text": [
            "Epoch 6/170, Reconstruction Accuracy: 0.3915\n",
            "Model saved at checkpoints/best_model.pth (Loss: 2.1462, Epoch: 6)\n"
          ]
        },
        {
          "output_type": "stream",
          "name": "stderr",
          "text": [
            "Training Epoch 7/170: 100%|██████████| 40/40 [00:03<00:00, 11.38it/s]\n"
          ]
        },
        {
          "output_type": "stream",
          "name": "stdout",
          "text": [
            "Epoch 7/170, Loss: 2.0889\n"
          ]
        },
        {
          "output_type": "stream",
          "name": "stderr",
          "text": [
            "Evaluating: 100%|██████████| 5/5 [00:04<00:00,  1.09it/s]\n"
          ]
        },
        {
          "output_type": "stream",
          "name": "stdout",
          "text": [
            "Epoch 7/170, Reconstruction Accuracy: 0.3795\n",
            "Model saved at checkpoints/best_model.pth (Loss: 2.0889, Epoch: 7)\n"
          ]
        },
        {
          "output_type": "stream",
          "name": "stderr",
          "text": [
            "Training Epoch 8/170: 100%|██████████| 40/40 [00:03<00:00, 11.36it/s]\n"
          ]
        },
        {
          "output_type": "stream",
          "name": "stdout",
          "text": [
            "Epoch 8/170, Loss: 2.0314\n"
          ]
        },
        {
          "output_type": "stream",
          "name": "stderr",
          "text": [
            "Evaluating: 100%|██████████| 5/5 [00:04<00:00,  1.20it/s]\n"
          ]
        },
        {
          "output_type": "stream",
          "name": "stdout",
          "text": [
            "Epoch 8/170, Reconstruction Accuracy: 0.4071\n",
            "Model saved at checkpoints/best_model.pth (Loss: 2.0314, Epoch: 8)\n"
          ]
        },
        {
          "output_type": "stream",
          "name": "stderr",
          "text": [
            "Training Epoch 9/170: 100%|██████████| 40/40 [00:03<00:00, 11.33it/s]\n"
          ]
        },
        {
          "output_type": "stream",
          "name": "stdout",
          "text": [
            "Epoch 9/170, Loss: 1.9862\n"
          ]
        },
        {
          "output_type": "stream",
          "name": "stderr",
          "text": [
            "Evaluating: 100%|██████████| 5/5 [00:04<00:00,  1.07it/s]\n"
          ]
        },
        {
          "output_type": "stream",
          "name": "stdout",
          "text": [
            "Epoch 9/170, Reconstruction Accuracy: 0.4034\n",
            "Model saved at checkpoints/best_model.pth (Loss: 1.9862, Epoch: 9)\n"
          ]
        },
        {
          "output_type": "stream",
          "name": "stderr",
          "text": [
            "Training Epoch 10/170: 100%|██████████| 40/40 [00:03<00:00, 11.37it/s]\n"
          ]
        },
        {
          "output_type": "stream",
          "name": "stdout",
          "text": [
            "Epoch 10/170, Loss: 1.9462\n"
          ]
        },
        {
          "output_type": "stream",
          "name": "stderr",
          "text": [
            "Evaluating: 100%|██████████| 5/5 [00:04<00:00,  1.12it/s]\n"
          ]
        },
        {
          "output_type": "stream",
          "name": "stdout",
          "text": [
            "Epoch 10/170, Reconstruction Accuracy: 0.3969\n",
            "Model saved at checkpoints/best_model.pth (Loss: 1.9462, Epoch: 10)\n"
          ]
        },
        {
          "output_type": "stream",
          "name": "stderr",
          "text": [
            "Training Epoch 11/170: 100%|██████████| 40/40 [00:03<00:00, 11.28it/s]\n"
          ]
        },
        {
          "output_type": "stream",
          "name": "stdout",
          "text": [
            "Epoch 11/170, Loss: 1.9073\n"
          ]
        },
        {
          "output_type": "stream",
          "name": "stderr",
          "text": [
            "Evaluating: 100%|██████████| 5/5 [00:04<00:00,  1.20it/s]\n"
          ]
        },
        {
          "output_type": "stream",
          "name": "stdout",
          "text": [
            "Epoch 11/170, Reconstruction Accuracy: 0.4012\n",
            "Model saved at checkpoints/best_model.pth (Loss: 1.9073, Epoch: 11)\n"
          ]
        },
        {
          "output_type": "stream",
          "name": "stderr",
          "text": [
            "Training Epoch 12/170: 100%|██████████| 40/40 [00:03<00:00, 11.31it/s]\n"
          ]
        },
        {
          "output_type": "stream",
          "name": "stdout",
          "text": [
            "Epoch 12/170, Loss: 1.8756\n"
          ]
        },
        {
          "output_type": "stream",
          "name": "stderr",
          "text": [
            "Evaluating: 100%|██████████| 5/5 [00:04<00:00,  1.04it/s]\n"
          ]
        },
        {
          "output_type": "stream",
          "name": "stdout",
          "text": [
            "Epoch 12/170, Reconstruction Accuracy: 0.3970\n",
            "Model saved at checkpoints/best_model.pth (Loss: 1.8756, Epoch: 12)\n"
          ]
        },
        {
          "output_type": "stream",
          "name": "stderr",
          "text": [
            "Training Epoch 13/170: 100%|██████████| 40/40 [00:03<00:00, 11.31it/s]\n"
          ]
        },
        {
          "output_type": "stream",
          "name": "stdout",
          "text": [
            "Epoch 13/170, Loss: 1.8408\n"
          ]
        },
        {
          "output_type": "stream",
          "name": "stderr",
          "text": [
            "Evaluating: 100%|██████████| 5/5 [00:04<00:00,  1.10it/s]\n"
          ]
        },
        {
          "output_type": "stream",
          "name": "stdout",
          "text": [
            "Epoch 13/170, Reconstruction Accuracy: 0.3787\n",
            "Model saved at checkpoints/best_model.pth (Loss: 1.8408, Epoch: 13)\n"
          ]
        },
        {
          "output_type": "stream",
          "name": "stderr",
          "text": [
            "Training Epoch 14/170: 100%|██████████| 40/40 [00:03<00:00, 11.21it/s]\n"
          ]
        },
        {
          "output_type": "stream",
          "name": "stdout",
          "text": [
            "Epoch 14/170, Loss: 1.8148\n"
          ]
        },
        {
          "output_type": "stream",
          "name": "stderr",
          "text": [
            "Evaluating: 100%|██████████| 5/5 [00:04<00:00,  1.08it/s]\n"
          ]
        },
        {
          "output_type": "stream",
          "name": "stdout",
          "text": [
            "Epoch 14/170, Reconstruction Accuracy: 0.4086\n",
            "Model saved at checkpoints/best_model.pth (Loss: 1.8148, Epoch: 14)\n"
          ]
        },
        {
          "output_type": "stream",
          "name": "stderr",
          "text": [
            "Training Epoch 15/170: 100%|██████████| 40/40 [00:03<00:00, 11.05it/s]\n"
          ]
        },
        {
          "output_type": "stream",
          "name": "stdout",
          "text": [
            "Epoch 15/170, Loss: 1.7870\n"
          ]
        },
        {
          "output_type": "stream",
          "name": "stderr",
          "text": [
            "Evaluating: 100%|██████████| 5/5 [00:04<00:00,  1.10it/s]\n"
          ]
        },
        {
          "output_type": "stream",
          "name": "stdout",
          "text": [
            "Epoch 15/170, Reconstruction Accuracy: 0.3961\n",
            "Model saved at checkpoints/best_model.pth (Loss: 1.7870, Epoch: 15)\n"
          ]
        },
        {
          "output_type": "stream",
          "name": "stderr",
          "text": [
            "Training Epoch 16/170: 100%|██████████| 40/40 [00:03<00:00, 11.24it/s]\n"
          ]
        },
        {
          "output_type": "stream",
          "name": "stdout",
          "text": [
            "Epoch 16/170, Loss: 1.7671\n"
          ]
        },
        {
          "output_type": "stream",
          "name": "stderr",
          "text": [
            "Evaluating: 100%|██████████| 5/5 [00:04<00:00,  1.06it/s]\n"
          ]
        },
        {
          "output_type": "stream",
          "name": "stdout",
          "text": [
            "Epoch 16/170, Reconstruction Accuracy: 0.4008\n",
            "Model saved at checkpoints/best_model.pth (Loss: 1.7671, Epoch: 16)\n"
          ]
        },
        {
          "output_type": "stream",
          "name": "stderr",
          "text": [
            "Training Epoch 17/170: 100%|██████████| 40/40 [00:03<00:00, 11.14it/s]\n"
          ]
        },
        {
          "output_type": "stream",
          "name": "stdout",
          "text": [
            "Epoch 17/170, Loss: 1.7393\n"
          ]
        },
        {
          "output_type": "stream",
          "name": "stderr",
          "text": [
            "Evaluating: 100%|██████████| 5/5 [00:04<00:00,  1.20it/s]\n"
          ]
        },
        {
          "output_type": "stream",
          "name": "stdout",
          "text": [
            "Epoch 17/170, Reconstruction Accuracy: 0.3874\n",
            "Model saved at checkpoints/best_model.pth (Loss: 1.7393, Epoch: 17)\n"
          ]
        },
        {
          "output_type": "stream",
          "name": "stderr",
          "text": [
            "Training Epoch 18/170: 100%|██████████| 40/40 [00:03<00:00, 11.12it/s]\n"
          ]
        },
        {
          "output_type": "stream",
          "name": "stdout",
          "text": [
            "Epoch 18/170, Loss: 1.7212\n"
          ]
        },
        {
          "output_type": "stream",
          "name": "stderr",
          "text": [
            "Evaluating: 100%|██████████| 5/5 [00:04<00:00,  1.10it/s]\n"
          ]
        },
        {
          "output_type": "stream",
          "name": "stdout",
          "text": [
            "Epoch 18/170, Reconstruction Accuracy: 0.3750\n",
            "Model saved at checkpoints/best_model.pth (Loss: 1.7212, Epoch: 18)\n"
          ]
        },
        {
          "output_type": "stream",
          "name": "stderr",
          "text": [
            "Training Epoch 19/170: 100%|██████████| 40/40 [00:03<00:00, 11.19it/s]\n"
          ]
        },
        {
          "output_type": "stream",
          "name": "stdout",
          "text": [
            "Epoch 19/170, Loss: 1.6945\n"
          ]
        },
        {
          "output_type": "stream",
          "name": "stderr",
          "text": [
            "Evaluating: 100%|██████████| 5/5 [00:04<00:00,  1.07it/s]\n"
          ]
        },
        {
          "output_type": "stream",
          "name": "stdout",
          "text": [
            "Epoch 19/170, Reconstruction Accuracy: 0.4033\n",
            "Model saved at checkpoints/best_model.pth (Loss: 1.6945, Epoch: 19)\n"
          ]
        },
        {
          "output_type": "stream",
          "name": "stderr",
          "text": [
            "Training Epoch 20/170: 100%|██████████| 40/40 [00:03<00:00, 11.14it/s]\n"
          ]
        },
        {
          "output_type": "stream",
          "name": "stdout",
          "text": [
            "Epoch 20/170, Loss: 1.6791\n"
          ]
        },
        {
          "output_type": "stream",
          "name": "stderr",
          "text": [
            "Evaluating: 100%|██████████| 5/5 [00:04<00:00,  1.18it/s]\n"
          ]
        },
        {
          "output_type": "stream",
          "name": "stdout",
          "text": [
            "Epoch 20/170, Reconstruction Accuracy: 0.3805\n",
            "Model saved at checkpoints/best_model.pth (Loss: 1.6791, Epoch: 20)\n"
          ]
        },
        {
          "output_type": "stream",
          "name": "stderr",
          "text": [
            "Training Epoch 21/170: 100%|██████████| 40/40 [00:03<00:00, 11.18it/s]\n"
          ]
        },
        {
          "output_type": "stream",
          "name": "stdout",
          "text": [
            "Epoch 21/170, Loss: 1.6559\n"
          ]
        },
        {
          "output_type": "stream",
          "name": "stderr",
          "text": [
            "Evaluating: 100%|██████████| 5/5 [00:04<00:00,  1.10it/s]\n"
          ]
        },
        {
          "output_type": "stream",
          "name": "stdout",
          "text": [
            "Epoch 21/170, Reconstruction Accuracy: 0.3910\n",
            "Model saved at checkpoints/best_model.pth (Loss: 1.6559, Epoch: 21)\n"
          ]
        },
        {
          "output_type": "stream",
          "name": "stderr",
          "text": [
            "Training Epoch 22/170: 100%|██████████| 40/40 [00:03<00:00, 11.18it/s]\n"
          ]
        },
        {
          "output_type": "stream",
          "name": "stdout",
          "text": [
            "Epoch 22/170, Loss: 1.6388\n"
          ]
        },
        {
          "output_type": "stream",
          "name": "stderr",
          "text": [
            "Evaluating: 100%|██████████| 5/5 [00:04<00:00,  1.09it/s]\n"
          ]
        },
        {
          "output_type": "stream",
          "name": "stdout",
          "text": [
            "Epoch 22/170, Reconstruction Accuracy: 0.3952\n",
            "Model saved at checkpoints/best_model.pth (Loss: 1.6388, Epoch: 22)\n"
          ]
        },
        {
          "output_type": "stream",
          "name": "stderr",
          "text": [
            "Training Epoch 23/170: 100%|██████████| 40/40 [00:03<00:00, 11.09it/s]\n"
          ]
        },
        {
          "output_type": "stream",
          "name": "stdout",
          "text": [
            "Epoch 23/170, Loss: 1.6205\n"
          ]
        },
        {
          "output_type": "stream",
          "name": "stderr",
          "text": [
            "Evaluating: 100%|██████████| 5/5 [00:04<00:00,  1.20it/s]\n"
          ]
        },
        {
          "output_type": "stream",
          "name": "stdout",
          "text": [
            "Epoch 23/170, Reconstruction Accuracy: 0.3898\n",
            "Model saved at checkpoints/best_model.pth (Loss: 1.6205, Epoch: 23)\n"
          ]
        },
        {
          "output_type": "stream",
          "name": "stderr",
          "text": [
            "Training Epoch 24/170: 100%|██████████| 40/40 [00:03<00:00, 11.10it/s]\n"
          ]
        },
        {
          "output_type": "stream",
          "name": "stdout",
          "text": [
            "Epoch 24/170, Loss: 1.6068\n"
          ]
        },
        {
          "output_type": "stream",
          "name": "stderr",
          "text": [
            "Evaluating: 100%|██████████| 5/5 [00:04<00:00,  1.10it/s]\n"
          ]
        },
        {
          "output_type": "stream",
          "name": "stdout",
          "text": [
            "Epoch 24/170, Reconstruction Accuracy: 0.3910\n",
            "Model saved at checkpoints/best_model.pth (Loss: 1.6068, Epoch: 24)\n"
          ]
        },
        {
          "output_type": "stream",
          "name": "stderr",
          "text": [
            "Training Epoch 25/170: 100%|██████████| 40/40 [00:03<00:00, 11.13it/s]\n"
          ]
        },
        {
          "output_type": "stream",
          "name": "stdout",
          "text": [
            "Epoch 25/170, Loss: 1.5879\n"
          ]
        },
        {
          "output_type": "stream",
          "name": "stderr",
          "text": [
            "Evaluating: 100%|██████████| 5/5 [00:04<00:00,  1.08it/s]\n"
          ]
        },
        {
          "output_type": "stream",
          "name": "stdout",
          "text": [
            "Epoch 25/170, Reconstruction Accuracy: 0.3718\n",
            "Model saved at checkpoints/best_model.pth (Loss: 1.5879, Epoch: 25)\n"
          ]
        },
        {
          "output_type": "stream",
          "name": "stderr",
          "text": [
            "Training Epoch 26/170: 100%|██████████| 40/40 [00:03<00:00, 11.10it/s]\n"
          ]
        },
        {
          "output_type": "stream",
          "name": "stdout",
          "text": [
            "Epoch 26/170, Loss: 1.5759\n"
          ]
        },
        {
          "output_type": "stream",
          "name": "stderr",
          "text": [
            "Evaluating: 100%|██████████| 5/5 [00:04<00:00,  1.20it/s]\n"
          ]
        },
        {
          "output_type": "stream",
          "name": "stdout",
          "text": [
            "Epoch 26/170, Reconstruction Accuracy: 0.3523\n",
            "Model saved at checkpoints/best_model.pth (Loss: 1.5759, Epoch: 26)\n"
          ]
        },
        {
          "output_type": "stream",
          "name": "stderr",
          "text": [
            "Training Epoch 27/170: 100%|██████████| 40/40 [00:03<00:00, 11.09it/s]\n"
          ]
        },
        {
          "output_type": "stream",
          "name": "stdout",
          "text": [
            "Epoch 27/170, Loss: 1.5584\n"
          ]
        },
        {
          "output_type": "stream",
          "name": "stderr",
          "text": [
            "Evaluating: 100%|██████████| 5/5 [00:04<00:00,  1.09it/s]\n"
          ]
        },
        {
          "output_type": "stream",
          "name": "stdout",
          "text": [
            "Epoch 27/170, Reconstruction Accuracy: 0.3970\n",
            "Model saved at checkpoints/best_model.pth (Loss: 1.5584, Epoch: 27)\n"
          ]
        },
        {
          "output_type": "stream",
          "name": "stderr",
          "text": [
            "Training Epoch 28/170: 100%|██████████| 40/40 [00:03<00:00, 11.09it/s]\n"
          ]
        },
        {
          "output_type": "stream",
          "name": "stdout",
          "text": [
            "Epoch 28/170, Loss: 1.5412\n"
          ]
        },
        {
          "output_type": "stream",
          "name": "stderr",
          "text": [
            "Evaluating: 100%|██████████| 5/5 [00:04<00:00,  1.09it/s]\n"
          ]
        },
        {
          "output_type": "stream",
          "name": "stdout",
          "text": [
            "Epoch 28/170, Reconstruction Accuracy: 0.3817\n",
            "Model saved at checkpoints/best_model.pth (Loss: 1.5412, Epoch: 28)\n"
          ]
        },
        {
          "output_type": "stream",
          "name": "stderr",
          "text": [
            "Training Epoch 29/170: 100%|██████████| 40/40 [00:03<00:00, 11.05it/s]\n"
          ]
        },
        {
          "output_type": "stream",
          "name": "stdout",
          "text": [
            "Epoch 29/170, Loss: 1.5198\n"
          ]
        },
        {
          "output_type": "stream",
          "name": "stderr",
          "text": [
            "Evaluating: 100%|██████████| 5/5 [00:04<00:00,  1.22it/s]\n"
          ]
        },
        {
          "output_type": "stream",
          "name": "stdout",
          "text": [
            "Epoch 29/170, Reconstruction Accuracy: 0.3734\n",
            "Model saved at checkpoints/best_model.pth (Loss: 1.5198, Epoch: 29)\n"
          ]
        },
        {
          "output_type": "stream",
          "name": "stderr",
          "text": [
            "Training Epoch 30/170: 100%|██████████| 40/40 [00:03<00:00, 11.06it/s]\n"
          ]
        },
        {
          "output_type": "stream",
          "name": "stdout",
          "text": [
            "Epoch 30/170, Loss: 1.5046\n"
          ]
        },
        {
          "output_type": "stream",
          "name": "stderr",
          "text": [
            "Evaluating: 100%|██████████| 5/5 [00:04<00:00,  1.10it/s]\n"
          ]
        },
        {
          "output_type": "stream",
          "name": "stdout",
          "text": [
            "Epoch 30/170, Reconstruction Accuracy: 0.3541\n",
            "Model saved at checkpoints/best_model.pth (Loss: 1.5046, Epoch: 30)\n"
          ]
        },
        {
          "output_type": "stream",
          "name": "stderr",
          "text": [
            "Training Epoch 31/170: 100%|██████████| 40/40 [00:03<00:00, 11.12it/s]\n"
          ]
        },
        {
          "output_type": "stream",
          "name": "stdout",
          "text": [
            "Epoch 31/170, Loss: 1.4970\n"
          ]
        },
        {
          "output_type": "stream",
          "name": "stderr",
          "text": [
            "Evaluating: 100%|██████████| 5/5 [00:04<00:00,  1.06it/s]\n"
          ]
        },
        {
          "output_type": "stream",
          "name": "stdout",
          "text": [
            "Epoch 31/170, Reconstruction Accuracy: 0.3519\n",
            "Model saved at checkpoints/best_model.pth (Loss: 1.4970, Epoch: 31)\n"
          ]
        },
        {
          "output_type": "stream",
          "name": "stderr",
          "text": [
            "Training Epoch 32/170: 100%|██████████| 40/40 [00:03<00:00, 11.04it/s]\n"
          ]
        },
        {
          "output_type": "stream",
          "name": "stdout",
          "text": [
            "Epoch 32/170, Loss: 1.4804\n"
          ]
        },
        {
          "output_type": "stream",
          "name": "stderr",
          "text": [
            "Evaluating: 100%|██████████| 5/5 [00:04<00:00,  1.20it/s]\n"
          ]
        },
        {
          "output_type": "stream",
          "name": "stdout",
          "text": [
            "Epoch 32/170, Reconstruction Accuracy: 0.3423\n",
            "Model saved at checkpoints/best_model.pth (Loss: 1.4804, Epoch: 32)\n"
          ]
        },
        {
          "output_type": "stream",
          "name": "stderr",
          "text": [
            "Training Epoch 33/170: 100%|██████████| 40/40 [00:03<00:00, 11.02it/s]\n"
          ]
        },
        {
          "output_type": "stream",
          "name": "stdout",
          "text": [
            "Epoch 33/170, Loss: 1.4604\n"
          ]
        },
        {
          "output_type": "stream",
          "name": "stderr",
          "text": [
            "Evaluating: 100%|██████████| 5/5 [00:04<00:00,  1.11it/s]\n"
          ]
        },
        {
          "output_type": "stream",
          "name": "stdout",
          "text": [
            "Epoch 33/170, Reconstruction Accuracy: 0.3259\n",
            "Model saved at checkpoints/best_model.pth (Loss: 1.4604, Epoch: 33)\n"
          ]
        },
        {
          "output_type": "stream",
          "name": "stderr",
          "text": [
            "Training Epoch 34/170: 100%|██████████| 40/40 [00:03<00:00, 11.07it/s]\n"
          ]
        },
        {
          "output_type": "stream",
          "name": "stdout",
          "text": [
            "Epoch 34/170, Loss: 1.4433\n"
          ]
        },
        {
          "output_type": "stream",
          "name": "stderr",
          "text": [
            "Evaluating: 100%|██████████| 5/5 [00:04<00:00,  1.06it/s]\n"
          ]
        },
        {
          "output_type": "stream",
          "name": "stdout",
          "text": [
            "Epoch 34/170, Reconstruction Accuracy: 0.3579\n",
            "Model saved at checkpoints/best_model.pth (Loss: 1.4433, Epoch: 34)\n"
          ]
        },
        {
          "output_type": "stream",
          "name": "stderr",
          "text": [
            "Training Epoch 35/170: 100%|██████████| 40/40 [00:03<00:00, 11.00it/s]\n"
          ]
        },
        {
          "output_type": "stream",
          "name": "stdout",
          "text": [
            "Epoch 35/170, Loss: 1.4278\n"
          ]
        },
        {
          "output_type": "stream",
          "name": "stderr",
          "text": [
            "Evaluating: 100%|██████████| 5/5 [00:04<00:00,  1.21it/s]\n"
          ]
        },
        {
          "output_type": "stream",
          "name": "stdout",
          "text": [
            "Epoch 35/170, Reconstruction Accuracy: 0.3482\n",
            "Model saved at checkpoints/best_model.pth (Loss: 1.4278, Epoch: 35)\n"
          ]
        },
        {
          "output_type": "stream",
          "name": "stderr",
          "text": [
            "Training Epoch 36/170: 100%|██████████| 40/40 [00:03<00:00, 11.03it/s]\n"
          ]
        },
        {
          "output_type": "stream",
          "name": "stdout",
          "text": [
            "Epoch 36/170, Loss: 1.4164\n"
          ]
        },
        {
          "output_type": "stream",
          "name": "stderr",
          "text": [
            "Evaluating: 100%|██████████| 5/5 [00:04<00:00,  1.13it/s]\n"
          ]
        },
        {
          "output_type": "stream",
          "name": "stdout",
          "text": [
            "Epoch 36/170, Reconstruction Accuracy: 0.3482\n",
            "Model saved at checkpoints/best_model.pth (Loss: 1.4164, Epoch: 36)\n"
          ]
        },
        {
          "output_type": "stream",
          "name": "stderr",
          "text": [
            "Training Epoch 37/170: 100%|██████████| 40/40 [00:03<00:00, 11.08it/s]\n"
          ]
        },
        {
          "output_type": "stream",
          "name": "stdout",
          "text": [
            "Epoch 37/170, Loss: 1.4062\n"
          ]
        },
        {
          "output_type": "stream",
          "name": "stderr",
          "text": [
            "Evaluating: 100%|██████████| 5/5 [00:04<00:00,  1.04it/s]\n"
          ]
        },
        {
          "output_type": "stream",
          "name": "stdout",
          "text": [
            "Epoch 37/170, Reconstruction Accuracy: 0.3426\n",
            "Model saved at checkpoints/best_model.pth (Loss: 1.4062, Epoch: 37)\n"
          ]
        },
        {
          "output_type": "stream",
          "name": "stderr",
          "text": [
            "Training Epoch 38/170: 100%|██████████| 40/40 [00:03<00:00, 11.01it/s]\n"
          ]
        },
        {
          "output_type": "stream",
          "name": "stdout",
          "text": [
            "Epoch 38/170, Loss: 1.3950\n"
          ]
        },
        {
          "output_type": "stream",
          "name": "stderr",
          "text": [
            "Evaluating: 100%|██████████| 5/5 [00:04<00:00,  1.19it/s]\n"
          ]
        },
        {
          "output_type": "stream",
          "name": "stdout",
          "text": [
            "Epoch 38/170, Reconstruction Accuracy: 0.3220\n",
            "Model saved at checkpoints/best_model.pth (Loss: 1.3950, Epoch: 38)\n"
          ]
        },
        {
          "output_type": "stream",
          "name": "stderr",
          "text": [
            "Training Epoch 39/170: 100%|██████████| 40/40 [00:03<00:00, 11.03it/s]\n"
          ]
        },
        {
          "output_type": "stream",
          "name": "stdout",
          "text": [
            "Epoch 39/170, Loss: 1.3790\n"
          ]
        },
        {
          "output_type": "stream",
          "name": "stderr",
          "text": [
            "Evaluating: 100%|██████████| 5/5 [00:04<00:00,  1.15it/s]\n"
          ]
        },
        {
          "output_type": "stream",
          "name": "stdout",
          "text": [
            "Epoch 39/170, Reconstruction Accuracy: 0.3141\n",
            "Model saved at checkpoints/best_model.pth (Loss: 1.3790, Epoch: 39)\n"
          ]
        },
        {
          "output_type": "stream",
          "name": "stderr",
          "text": [
            "Training Epoch 40/170: 100%|██████████| 40/40 [00:03<00:00, 11.09it/s]\n"
          ]
        },
        {
          "output_type": "stream",
          "name": "stdout",
          "text": [
            "Epoch 40/170, Loss: 1.3589\n"
          ]
        },
        {
          "output_type": "stream",
          "name": "stderr",
          "text": [
            "Evaluating: 100%|██████████| 5/5 [00:04<00:00,  1.06it/s]\n"
          ]
        },
        {
          "output_type": "stream",
          "name": "stdout",
          "text": [
            "Epoch 40/170, Reconstruction Accuracy: 0.2901\n",
            "Model saved at checkpoints/best_model.pth (Loss: 1.3589, Epoch: 40)\n"
          ]
        },
        {
          "output_type": "stream",
          "name": "stderr",
          "text": [
            "Training Epoch 41/170: 100%|██████████| 40/40 [00:03<00:00, 11.09it/s]\n"
          ]
        },
        {
          "output_type": "stream",
          "name": "stdout",
          "text": [
            "Epoch 41/170, Loss: 1.3437\n"
          ]
        },
        {
          "output_type": "stream",
          "name": "stderr",
          "text": [
            "Evaluating: 100%|██████████| 5/5 [00:04<00:00,  1.21it/s]\n"
          ]
        },
        {
          "output_type": "stream",
          "name": "stdout",
          "text": [
            "Epoch 41/170, Reconstruction Accuracy: 0.3179\n",
            "Model saved at checkpoints/best_model.pth (Loss: 1.3437, Epoch: 41)\n"
          ]
        },
        {
          "output_type": "stream",
          "name": "stderr",
          "text": [
            "Training Epoch 42/170: 100%|██████████| 40/40 [00:03<00:00, 10.97it/s]\n"
          ]
        },
        {
          "output_type": "stream",
          "name": "stdout",
          "text": [
            "Epoch 42/170, Loss: 1.3274\n"
          ]
        },
        {
          "output_type": "stream",
          "name": "stderr",
          "text": [
            "Evaluating: 100%|██████████| 5/5 [00:04<00:00,  1.12it/s]\n"
          ]
        },
        {
          "output_type": "stream",
          "name": "stdout",
          "text": [
            "Epoch 42/170, Reconstruction Accuracy: 0.3145\n",
            "Model saved at checkpoints/best_model.pth (Loss: 1.3274, Epoch: 42)\n"
          ]
        },
        {
          "output_type": "stream",
          "name": "stderr",
          "text": [
            "Training Epoch 43/170: 100%|██████████| 40/40 [00:03<00:00, 11.09it/s]\n"
          ]
        },
        {
          "output_type": "stream",
          "name": "stdout",
          "text": [
            "Epoch 43/170, Loss: 1.3169\n"
          ]
        },
        {
          "output_type": "stream",
          "name": "stderr",
          "text": [
            "Evaluating: 100%|██████████| 5/5 [00:04<00:00,  1.06it/s]\n"
          ]
        },
        {
          "output_type": "stream",
          "name": "stdout",
          "text": [
            "Epoch 43/170, Reconstruction Accuracy: 0.3031\n",
            "Model saved at checkpoints/best_model.pth (Loss: 1.3169, Epoch: 43)\n"
          ]
        },
        {
          "output_type": "stream",
          "name": "stderr",
          "text": [
            "Training Epoch 44/170: 100%|██████████| 40/40 [00:03<00:00, 11.02it/s]\n"
          ]
        },
        {
          "output_type": "stream",
          "name": "stdout",
          "text": [
            "Epoch 44/170, Loss: 1.3063\n"
          ]
        },
        {
          "output_type": "stream",
          "name": "stderr",
          "text": [
            "Evaluating: 100%|██████████| 5/5 [00:04<00:00,  1.22it/s]\n"
          ]
        },
        {
          "output_type": "stream",
          "name": "stdout",
          "text": [
            "Epoch 44/170, Reconstruction Accuracy: 0.3188\n",
            "Model saved at checkpoints/best_model.pth (Loss: 1.3063, Epoch: 44)\n"
          ]
        },
        {
          "output_type": "stream",
          "name": "stderr",
          "text": [
            "Training Epoch 45/170: 100%|██████████| 40/40 [00:03<00:00, 11.03it/s]\n"
          ]
        },
        {
          "output_type": "stream",
          "name": "stdout",
          "text": [
            "Epoch 45/170, Loss: 1.2967\n"
          ]
        },
        {
          "output_type": "stream",
          "name": "stderr",
          "text": [
            "Evaluating: 100%|██████████| 5/5 [00:04<00:00,  1.13it/s]\n"
          ]
        },
        {
          "output_type": "stream",
          "name": "stdout",
          "text": [
            "Epoch 45/170, Reconstruction Accuracy: 0.3324\n",
            "Model saved at checkpoints/best_model.pth (Loss: 1.2967, Epoch: 45)\n"
          ]
        },
        {
          "output_type": "stream",
          "name": "stderr",
          "text": [
            "Training Epoch 46/170: 100%|██████████| 40/40 [00:03<00:00, 11.06it/s]\n"
          ]
        },
        {
          "output_type": "stream",
          "name": "stdout",
          "text": [
            "Epoch 46/170, Loss: 1.2842\n"
          ]
        },
        {
          "output_type": "stream",
          "name": "stderr",
          "text": [
            "Evaluating: 100%|██████████| 5/5 [00:04<00:00,  1.05it/s]\n"
          ]
        },
        {
          "output_type": "stream",
          "name": "stdout",
          "text": [
            "Epoch 46/170, Reconstruction Accuracy: 0.3098\n",
            "Model saved at checkpoints/best_model.pth (Loss: 1.2842, Epoch: 46)\n"
          ]
        },
        {
          "output_type": "stream",
          "name": "stderr",
          "text": [
            "Training Epoch 47/170: 100%|██████████| 40/40 [00:03<00:00, 11.05it/s]\n"
          ]
        },
        {
          "output_type": "stream",
          "name": "stdout",
          "text": [
            "Epoch 47/170, Loss: 1.2835\n"
          ]
        },
        {
          "output_type": "stream",
          "name": "stderr",
          "text": [
            "Evaluating: 100%|██████████| 5/5 [00:04<00:00,  1.21it/s]\n"
          ]
        },
        {
          "output_type": "stream",
          "name": "stdout",
          "text": [
            "Epoch 47/170, Reconstruction Accuracy: 0.3114\n",
            "Model saved at checkpoints/best_model.pth (Loss: 1.2835, Epoch: 47)\n"
          ]
        },
        {
          "output_type": "stream",
          "name": "stderr",
          "text": [
            "Training Epoch 48/170: 100%|██████████| 40/40 [00:03<00:00, 11.05it/s]\n"
          ]
        },
        {
          "output_type": "stream",
          "name": "stdout",
          "text": [
            "Epoch 48/170, Loss: 1.2659\n"
          ]
        },
        {
          "output_type": "stream",
          "name": "stderr",
          "text": [
            "Evaluating: 100%|██████████| 5/5 [00:04<00:00,  1.14it/s]\n"
          ]
        },
        {
          "output_type": "stream",
          "name": "stdout",
          "text": [
            "Epoch 48/170, Reconstruction Accuracy: 0.2953\n",
            "Model saved at checkpoints/best_model.pth (Loss: 1.2659, Epoch: 48)\n"
          ]
        },
        {
          "output_type": "stream",
          "name": "stderr",
          "text": [
            "Training Epoch 49/170: 100%|██████████| 40/40 [00:03<00:00, 11.07it/s]\n"
          ]
        },
        {
          "output_type": "stream",
          "name": "stdout",
          "text": [
            "Epoch 49/170, Loss: 1.2551\n"
          ]
        },
        {
          "output_type": "stream",
          "name": "stderr",
          "text": [
            "Evaluating: 100%|██████████| 5/5 [00:04<00:00,  1.06it/s]\n"
          ]
        },
        {
          "output_type": "stream",
          "name": "stdout",
          "text": [
            "Epoch 49/170, Reconstruction Accuracy: 0.3277\n",
            "Model saved at checkpoints/best_model.pth (Loss: 1.2551, Epoch: 49)\n"
          ]
        },
        {
          "output_type": "stream",
          "name": "stderr",
          "text": [
            "Training Epoch 50/170: 100%|██████████| 40/40 [00:03<00:00, 11.00it/s]\n"
          ]
        },
        {
          "output_type": "stream",
          "name": "stdout",
          "text": [
            "Epoch 50/170, Loss: 1.2413\n"
          ]
        },
        {
          "output_type": "stream",
          "name": "stderr",
          "text": [
            "Evaluating: 100%|██████████| 5/5 [00:04<00:00,  1.21it/s]\n"
          ]
        },
        {
          "output_type": "stream",
          "name": "stdout",
          "text": [
            "Epoch 50/170, Reconstruction Accuracy: 0.3314\n",
            "Model saved at checkpoints/best_model.pth (Loss: 1.2413, Epoch: 50)\n"
          ]
        },
        {
          "output_type": "stream",
          "name": "stderr",
          "text": [
            "Training Epoch 51/170: 100%|██████████| 40/40 [00:03<00:00, 11.00it/s]\n"
          ]
        },
        {
          "output_type": "stream",
          "name": "stdout",
          "text": [
            "Epoch 51/170, Loss: 1.2321\n"
          ]
        },
        {
          "output_type": "stream",
          "name": "stderr",
          "text": [
            "Evaluating: 100%|██████████| 5/5 [00:04<00:00,  1.12it/s]\n"
          ]
        },
        {
          "output_type": "stream",
          "name": "stdout",
          "text": [
            "Epoch 51/170, Reconstruction Accuracy: 0.3292\n",
            "Model saved at checkpoints/best_model.pth (Loss: 1.2321, Epoch: 51)\n"
          ]
        },
        {
          "output_type": "stream",
          "name": "stderr",
          "text": [
            "Training Epoch 52/170: 100%|██████████| 40/40 [00:03<00:00, 11.07it/s]\n"
          ]
        },
        {
          "output_type": "stream",
          "name": "stdout",
          "text": [
            "Epoch 52/170, Loss: 1.2199\n"
          ]
        },
        {
          "output_type": "stream",
          "name": "stderr",
          "text": [
            "Evaluating: 100%|██████████| 5/5 [00:04<00:00,  1.06it/s]\n"
          ]
        },
        {
          "output_type": "stream",
          "name": "stdout",
          "text": [
            "Epoch 52/170, Reconstruction Accuracy: 0.3251\n",
            "Model saved at checkpoints/best_model.pth (Loss: 1.2199, Epoch: 52)\n"
          ]
        },
        {
          "output_type": "stream",
          "name": "stderr",
          "text": [
            "Training Epoch 53/170: 100%|██████████| 40/40 [00:03<00:00, 11.06it/s]\n"
          ]
        },
        {
          "output_type": "stream",
          "name": "stdout",
          "text": [
            "Epoch 53/170, Loss: 1.2024\n"
          ]
        },
        {
          "output_type": "stream",
          "name": "stderr",
          "text": [
            "Evaluating: 100%|██████████| 5/5 [00:04<00:00,  1.20it/s]\n"
          ]
        },
        {
          "output_type": "stream",
          "name": "stdout",
          "text": [
            "Epoch 53/170, Reconstruction Accuracy: 0.3266\n",
            "Model saved at checkpoints/best_model.pth (Loss: 1.2024, Epoch: 53)\n"
          ]
        },
        {
          "output_type": "stream",
          "name": "stderr",
          "text": [
            "Training Epoch 54/170: 100%|██████████| 40/40 [00:03<00:00, 10.99it/s]\n"
          ]
        },
        {
          "output_type": "stream",
          "name": "stdout",
          "text": [
            "Epoch 54/170, Loss: 1.2054\n"
          ]
        },
        {
          "output_type": "stream",
          "name": "stderr",
          "text": [
            "Evaluating: 100%|██████████| 5/5 [00:04<00:00,  1.13it/s]\n"
          ]
        },
        {
          "output_type": "stream",
          "name": "stdout",
          "text": [
            "Epoch 54/170, Reconstruction Accuracy: 0.3473\n"
          ]
        },
        {
          "output_type": "stream",
          "name": "stderr",
          "text": [
            "Training Epoch 55/170: 100%|██████████| 40/40 [00:03<00:00, 11.11it/s]\n"
          ]
        },
        {
          "output_type": "stream",
          "name": "stdout",
          "text": [
            "Epoch 55/170, Loss: 1.2020\n"
          ]
        },
        {
          "output_type": "stream",
          "name": "stderr",
          "text": [
            "Evaluating: 100%|██████████| 5/5 [00:04<00:00,  1.08it/s]\n"
          ]
        },
        {
          "output_type": "stream",
          "name": "stdout",
          "text": [
            "Epoch 55/170, Reconstruction Accuracy: 0.3182\n",
            "Model saved at checkpoints/best_model.pth (Loss: 1.2020, Epoch: 55)\n"
          ]
        },
        {
          "output_type": "stream",
          "name": "stderr",
          "text": [
            "Training Epoch 56/170: 100%|██████████| 40/40 [00:03<00:00, 11.02it/s]\n"
          ]
        },
        {
          "output_type": "stream",
          "name": "stdout",
          "text": [
            "Epoch 56/170, Loss: 1.1826\n"
          ]
        },
        {
          "output_type": "stream",
          "name": "stderr",
          "text": [
            "Evaluating: 100%|██████████| 5/5 [00:04<00:00,  1.22it/s]\n"
          ]
        },
        {
          "output_type": "stream",
          "name": "stdout",
          "text": [
            "Epoch 56/170, Reconstruction Accuracy: 0.3259\n",
            "Model saved at checkpoints/best_model.pth (Loss: 1.1826, Epoch: 56)\n"
          ]
        },
        {
          "output_type": "stream",
          "name": "stderr",
          "text": [
            "Training Epoch 57/170: 100%|██████████| 40/40 [00:03<00:00, 10.99it/s]\n"
          ]
        },
        {
          "output_type": "stream",
          "name": "stdout",
          "text": [
            "Epoch 57/170, Loss: 1.1732\n"
          ]
        },
        {
          "output_type": "stream",
          "name": "stderr",
          "text": [
            "Evaluating: 100%|██████████| 5/5 [00:04<00:00,  1.12it/s]\n"
          ]
        },
        {
          "output_type": "stream",
          "name": "stdout",
          "text": [
            "Epoch 57/170, Reconstruction Accuracy: 0.3423\n",
            "Model saved at checkpoints/best_model.pth (Loss: 1.1732, Epoch: 57)\n"
          ]
        },
        {
          "output_type": "stream",
          "name": "stderr",
          "text": [
            "Training Epoch 58/170: 100%|██████████| 40/40 [00:03<00:00, 11.10it/s]\n"
          ]
        },
        {
          "output_type": "stream",
          "name": "stdout",
          "text": [
            "Epoch 58/170, Loss: 1.1616\n"
          ]
        },
        {
          "output_type": "stream",
          "name": "stderr",
          "text": [
            "Evaluating: 100%|██████████| 5/5 [00:04<00:00,  1.08it/s]\n"
          ]
        },
        {
          "output_type": "stream",
          "name": "stdout",
          "text": [
            "Epoch 58/170, Reconstruction Accuracy: 0.3441\n",
            "Model saved at checkpoints/best_model.pth (Loss: 1.1616, Epoch: 58)\n"
          ]
        },
        {
          "output_type": "stream",
          "name": "stderr",
          "text": [
            "Training Epoch 59/170: 100%|██████████| 40/40 [00:03<00:00, 11.03it/s]\n"
          ]
        },
        {
          "output_type": "stream",
          "name": "stdout",
          "text": [
            "Epoch 59/170, Loss: 1.1471\n"
          ]
        },
        {
          "output_type": "stream",
          "name": "stderr",
          "text": [
            "Evaluating: 100%|██████████| 5/5 [00:04<00:00,  1.22it/s]\n"
          ]
        },
        {
          "output_type": "stream",
          "name": "stdout",
          "text": [
            "Epoch 59/170, Reconstruction Accuracy: 0.3156\n",
            "Model saved at checkpoints/best_model.pth (Loss: 1.1471, Epoch: 59)\n"
          ]
        },
        {
          "output_type": "stream",
          "name": "stderr",
          "text": [
            "Training Epoch 60/170: 100%|██████████| 40/40 [00:03<00:00, 11.02it/s]\n"
          ]
        },
        {
          "output_type": "stream",
          "name": "stdout",
          "text": [
            "Epoch 60/170, Loss: 1.1413\n"
          ]
        },
        {
          "output_type": "stream",
          "name": "stderr",
          "text": [
            "Evaluating: 100%|██████████| 5/5 [00:04<00:00,  1.11it/s]\n"
          ]
        },
        {
          "output_type": "stream",
          "name": "stdout",
          "text": [
            "Epoch 60/170, Reconstruction Accuracy: 0.3542\n",
            "Model saved at checkpoints/best_model.pth (Loss: 1.1413, Epoch: 60)\n"
          ]
        },
        {
          "output_type": "stream",
          "name": "stderr",
          "text": [
            "Training Epoch 61/170: 100%|██████████| 40/40 [00:03<00:00, 11.09it/s]\n"
          ]
        },
        {
          "output_type": "stream",
          "name": "stdout",
          "text": [
            "Epoch 61/170, Loss: 1.1307\n"
          ]
        },
        {
          "output_type": "stream",
          "name": "stderr",
          "text": [
            "Evaluating: 100%|██████████| 5/5 [00:04<00:00,  1.07it/s]\n"
          ]
        },
        {
          "output_type": "stream",
          "name": "stdout",
          "text": [
            "Epoch 61/170, Reconstruction Accuracy: 0.2966\n",
            "Model saved at checkpoints/best_model.pth (Loss: 1.1307, Epoch: 61)\n"
          ]
        },
        {
          "output_type": "stream",
          "name": "stderr",
          "text": [
            "Training Epoch 62/170: 100%|██████████| 40/40 [00:03<00:00, 11.03it/s]\n"
          ]
        },
        {
          "output_type": "stream",
          "name": "stdout",
          "text": [
            "Epoch 62/170, Loss: 1.1179\n"
          ]
        },
        {
          "output_type": "stream",
          "name": "stderr",
          "text": [
            "Evaluating: 100%|██████████| 5/5 [00:04<00:00,  1.20it/s]\n"
          ]
        },
        {
          "output_type": "stream",
          "name": "stdout",
          "text": [
            "Epoch 62/170, Reconstruction Accuracy: 0.3246\n",
            "Model saved at checkpoints/best_model.pth (Loss: 1.1179, Epoch: 62)\n"
          ]
        },
        {
          "output_type": "stream",
          "name": "stderr",
          "text": [
            "Training Epoch 63/170: 100%|██████████| 40/40 [00:03<00:00, 10.98it/s]\n"
          ]
        },
        {
          "output_type": "stream",
          "name": "stdout",
          "text": [
            "Epoch 63/170, Loss: 1.1104\n"
          ]
        },
        {
          "output_type": "stream",
          "name": "stderr",
          "text": [
            "Evaluating: 100%|██████████| 5/5 [00:04<00:00,  1.12it/s]\n"
          ]
        },
        {
          "output_type": "stream",
          "name": "stdout",
          "text": [
            "Epoch 63/170, Reconstruction Accuracy: 0.3478\n",
            "Model saved at checkpoints/best_model.pth (Loss: 1.1104, Epoch: 63)\n"
          ]
        },
        {
          "output_type": "stream",
          "name": "stderr",
          "text": [
            "Training Epoch 64/170: 100%|██████████| 40/40 [00:03<00:00, 11.11it/s]\n"
          ]
        },
        {
          "output_type": "stream",
          "name": "stdout",
          "text": [
            "Epoch 64/170, Loss: 1.1036\n"
          ]
        },
        {
          "output_type": "stream",
          "name": "stderr",
          "text": [
            "Evaluating: 100%|██████████| 5/5 [00:04<00:00,  1.06it/s]\n"
          ]
        },
        {
          "output_type": "stream",
          "name": "stdout",
          "text": [
            "Epoch 64/170, Reconstruction Accuracy: 0.3145\n",
            "Model saved at checkpoints/best_model.pth (Loss: 1.1036, Epoch: 64)\n"
          ]
        },
        {
          "output_type": "stream",
          "name": "stderr",
          "text": [
            "Training Epoch 65/170: 100%|██████████| 40/40 [00:03<00:00, 11.00it/s]\n"
          ]
        },
        {
          "output_type": "stream",
          "name": "stdout",
          "text": [
            "Epoch 65/170, Loss: 1.1010\n"
          ]
        },
        {
          "output_type": "stream",
          "name": "stderr",
          "text": [
            "Evaluating: 100%|██████████| 5/5 [00:04<00:00,  1.22it/s]\n"
          ]
        },
        {
          "output_type": "stream",
          "name": "stdout",
          "text": [
            "Epoch 65/170, Reconstruction Accuracy: 0.3727\n",
            "Model saved at checkpoints/best_model.pth (Loss: 1.1010, Epoch: 65)\n"
          ]
        },
        {
          "output_type": "stream",
          "name": "stderr",
          "text": [
            "Training Epoch 66/170: 100%|██████████| 40/40 [00:03<00:00, 11.01it/s]\n"
          ]
        },
        {
          "output_type": "stream",
          "name": "stdout",
          "text": [
            "Epoch 66/170, Loss: 1.0878\n"
          ]
        },
        {
          "output_type": "stream",
          "name": "stderr",
          "text": [
            "Evaluating: 100%|██████████| 5/5 [00:04<00:00,  1.12it/s]\n"
          ]
        },
        {
          "output_type": "stream",
          "name": "stdout",
          "text": [
            "Epoch 66/170, Reconstruction Accuracy: 0.3619\n",
            "Model saved at checkpoints/best_model.pth (Loss: 1.0878, Epoch: 66)\n"
          ]
        },
        {
          "output_type": "stream",
          "name": "stderr",
          "text": [
            "Training Epoch 67/170: 100%|██████████| 40/40 [00:03<00:00, 11.08it/s]\n"
          ]
        },
        {
          "output_type": "stream",
          "name": "stdout",
          "text": [
            "Epoch 67/170, Loss: 1.0811\n"
          ]
        },
        {
          "output_type": "stream",
          "name": "stderr",
          "text": [
            "Evaluating: 100%|██████████| 5/5 [00:04<00:00,  1.06it/s]\n"
          ]
        },
        {
          "output_type": "stream",
          "name": "stdout",
          "text": [
            "Epoch 67/170, Reconstruction Accuracy: 0.3416\n",
            "Model saved at checkpoints/best_model.pth (Loss: 1.0811, Epoch: 67)\n"
          ]
        },
        {
          "output_type": "stream",
          "name": "stderr",
          "text": [
            "Training Epoch 68/170: 100%|██████████| 40/40 [00:03<00:00, 11.04it/s]\n"
          ]
        },
        {
          "output_type": "stream",
          "name": "stdout",
          "text": [
            "Epoch 68/170, Loss: 1.0675\n"
          ]
        },
        {
          "output_type": "stream",
          "name": "stderr",
          "text": [
            "Evaluating: 100%|██████████| 5/5 [00:04<00:00,  1.22it/s]\n"
          ]
        },
        {
          "output_type": "stream",
          "name": "stdout",
          "text": [
            "Epoch 68/170, Reconstruction Accuracy: 0.3397\n",
            "Model saved at checkpoints/best_model.pth (Loss: 1.0675, Epoch: 68)\n"
          ]
        },
        {
          "output_type": "stream",
          "name": "stderr",
          "text": [
            "Training Epoch 69/170: 100%|██████████| 40/40 [00:03<00:00, 10.98it/s]\n"
          ]
        },
        {
          "output_type": "stream",
          "name": "stdout",
          "text": [
            "Epoch 69/170, Loss: 1.0531\n"
          ]
        },
        {
          "output_type": "stream",
          "name": "stderr",
          "text": [
            "Evaluating: 100%|██████████| 5/5 [00:04<00:00,  1.12it/s]\n"
          ]
        },
        {
          "output_type": "stream",
          "name": "stdout",
          "text": [
            "Epoch 69/170, Reconstruction Accuracy: 0.3580\n",
            "Model saved at checkpoints/best_model.pth (Loss: 1.0531, Epoch: 69)\n"
          ]
        },
        {
          "output_type": "stream",
          "name": "stderr",
          "text": [
            "Training Epoch 70/170: 100%|██████████| 40/40 [00:03<00:00, 11.08it/s]\n"
          ]
        },
        {
          "output_type": "stream",
          "name": "stdout",
          "text": [
            "Epoch 70/170, Loss: 1.0516\n"
          ]
        },
        {
          "output_type": "stream",
          "name": "stderr",
          "text": [
            "Evaluating: 100%|██████████| 5/5 [00:04<00:00,  1.07it/s]\n"
          ]
        },
        {
          "output_type": "stream",
          "name": "stdout",
          "text": [
            "Epoch 70/170, Reconstruction Accuracy: 0.3502\n",
            "Model saved at checkpoints/best_model.pth (Loss: 1.0516, Epoch: 70)\n"
          ]
        },
        {
          "output_type": "stream",
          "name": "stderr",
          "text": [
            "Training Epoch 71/170: 100%|██████████| 40/40 [00:03<00:00, 10.99it/s]\n"
          ]
        },
        {
          "output_type": "stream",
          "name": "stdout",
          "text": [
            "Epoch 71/170, Loss: 1.0406\n"
          ]
        },
        {
          "output_type": "stream",
          "name": "stderr",
          "text": [
            "Evaluating: 100%|██████████| 5/5 [00:04<00:00,  1.19it/s]\n"
          ]
        },
        {
          "output_type": "stream",
          "name": "stdout",
          "text": [
            "Epoch 71/170, Reconstruction Accuracy: 0.3442\n",
            "Model saved at checkpoints/best_model.pth (Loss: 1.0406, Epoch: 71)\n"
          ]
        },
        {
          "output_type": "stream",
          "name": "stderr",
          "text": [
            "Training Epoch 72/170: 100%|██████████| 40/40 [00:03<00:00, 10.97it/s]\n"
          ]
        },
        {
          "output_type": "stream",
          "name": "stdout",
          "text": [
            "Epoch 72/170, Loss: 1.0237\n"
          ]
        },
        {
          "output_type": "stream",
          "name": "stderr",
          "text": [
            "Evaluating: 100%|██████████| 5/5 [00:04<00:00,  1.14it/s]\n"
          ]
        },
        {
          "output_type": "stream",
          "name": "stdout",
          "text": [
            "Epoch 72/170, Reconstruction Accuracy: 0.3417\n",
            "Model saved at checkpoints/best_model.pth (Loss: 1.0237, Epoch: 72)\n"
          ]
        },
        {
          "output_type": "stream",
          "name": "stderr",
          "text": [
            "Training Epoch 73/170: 100%|██████████| 40/40 [00:03<00:00, 11.05it/s]\n"
          ]
        },
        {
          "output_type": "stream",
          "name": "stdout",
          "text": [
            "Epoch 73/170, Loss: 1.0132\n"
          ]
        },
        {
          "output_type": "stream",
          "name": "stderr",
          "text": [
            "Evaluating: 100%|██████████| 5/5 [00:04<00:00,  1.06it/s]\n"
          ]
        },
        {
          "output_type": "stream",
          "name": "stdout",
          "text": [
            "Epoch 73/170, Reconstruction Accuracy: 0.2905\n",
            "Model saved at checkpoints/best_model.pth (Loss: 1.0132, Epoch: 73)\n"
          ]
        },
        {
          "output_type": "stream",
          "name": "stderr",
          "text": [
            "Training Epoch 74/170: 100%|██████████| 40/40 [00:03<00:00, 11.07it/s]\n"
          ]
        },
        {
          "output_type": "stream",
          "name": "stdout",
          "text": [
            "Epoch 74/170, Loss: 1.0032\n"
          ]
        },
        {
          "output_type": "stream",
          "name": "stderr",
          "text": [
            "Evaluating: 100%|██████████| 5/5 [00:04<00:00,  1.21it/s]\n"
          ]
        },
        {
          "output_type": "stream",
          "name": "stdout",
          "text": [
            "Epoch 74/170, Reconstruction Accuracy: 0.3541\n",
            "Model saved at checkpoints/best_model.pth (Loss: 1.0032, Epoch: 74)\n"
          ]
        },
        {
          "output_type": "stream",
          "name": "stderr",
          "text": [
            "Training Epoch 75/170: 100%|██████████| 40/40 [00:03<00:00, 11.04it/s]\n"
          ]
        },
        {
          "output_type": "stream",
          "name": "stdout",
          "text": [
            "Epoch 75/170, Loss: 0.9954\n"
          ]
        },
        {
          "output_type": "stream",
          "name": "stderr",
          "text": [
            "Evaluating: 100%|██████████| 5/5 [00:04<00:00,  1.12it/s]\n"
          ]
        },
        {
          "output_type": "stream",
          "name": "stdout",
          "text": [
            "Epoch 75/170, Reconstruction Accuracy: 0.3670\n",
            "Model saved at checkpoints/best_model.pth (Loss: 0.9954, Epoch: 75)\n"
          ]
        },
        {
          "output_type": "stream",
          "name": "stderr",
          "text": [
            "Training Epoch 76/170: 100%|██████████| 40/40 [00:03<00:00, 11.08it/s]\n"
          ]
        },
        {
          "output_type": "stream",
          "name": "stdout",
          "text": [
            "Epoch 76/170, Loss: 0.9858\n"
          ]
        },
        {
          "output_type": "stream",
          "name": "stderr",
          "text": [
            "Evaluating: 100%|██████████| 5/5 [00:04<00:00,  1.07it/s]\n"
          ]
        },
        {
          "output_type": "stream",
          "name": "stdout",
          "text": [
            "Epoch 76/170, Reconstruction Accuracy: 0.3473\n",
            "Model saved at checkpoints/best_model.pth (Loss: 0.9858, Epoch: 76)\n"
          ]
        },
        {
          "output_type": "stream",
          "name": "stderr",
          "text": [
            "Training Epoch 77/170: 100%|██████████| 40/40 [00:03<00:00, 11.04it/s]\n"
          ]
        },
        {
          "output_type": "stream",
          "name": "stdout",
          "text": [
            "Epoch 77/170, Loss: 0.9728\n"
          ]
        },
        {
          "output_type": "stream",
          "name": "stderr",
          "text": [
            "Evaluating: 100%|██████████| 5/5 [00:04<00:00,  1.22it/s]\n"
          ]
        },
        {
          "output_type": "stream",
          "name": "stdout",
          "text": [
            "Epoch 77/170, Reconstruction Accuracy: 0.3216\n",
            "Model saved at checkpoints/best_model.pth (Loss: 0.9728, Epoch: 77)\n"
          ]
        },
        {
          "output_type": "stream",
          "name": "stderr",
          "text": [
            "Training Epoch 78/170: 100%|██████████| 40/40 [00:03<00:00, 10.98it/s]\n"
          ]
        },
        {
          "output_type": "stream",
          "name": "stdout",
          "text": [
            "Epoch 78/170, Loss: 0.9690\n"
          ]
        },
        {
          "output_type": "stream",
          "name": "stderr",
          "text": [
            "Evaluating: 100%|██████████| 5/5 [00:04<00:00,  1.12it/s]\n"
          ]
        },
        {
          "output_type": "stream",
          "name": "stdout",
          "text": [
            "Epoch 78/170, Reconstruction Accuracy: 0.3650\n",
            "Model saved at checkpoints/best_model.pth (Loss: 0.9690, Epoch: 78)\n"
          ]
        },
        {
          "output_type": "stream",
          "name": "stderr",
          "text": [
            "Training Epoch 79/170: 100%|██████████| 40/40 [00:03<00:00, 11.08it/s]\n"
          ]
        },
        {
          "output_type": "stream",
          "name": "stdout",
          "text": [
            "Epoch 79/170, Loss: 0.9589\n"
          ]
        },
        {
          "output_type": "stream",
          "name": "stderr",
          "text": [
            "Evaluating: 100%|██████████| 5/5 [00:04<00:00,  1.09it/s]\n"
          ]
        },
        {
          "output_type": "stream",
          "name": "stdout",
          "text": [
            "Epoch 79/170, Reconstruction Accuracy: 0.3383\n",
            "Model saved at checkpoints/best_model.pth (Loss: 0.9589, Epoch: 79)\n"
          ]
        },
        {
          "output_type": "stream",
          "name": "stderr",
          "text": [
            "Training Epoch 80/170: 100%|██████████| 40/40 [00:03<00:00, 11.01it/s]\n"
          ]
        },
        {
          "output_type": "stream",
          "name": "stdout",
          "text": [
            "Epoch 80/170, Loss: 0.9541\n"
          ]
        },
        {
          "output_type": "stream",
          "name": "stderr",
          "text": [
            "Evaluating: 100%|██████████| 5/5 [00:04<00:00,  1.21it/s]\n"
          ]
        },
        {
          "output_type": "stream",
          "name": "stdout",
          "text": [
            "Epoch 80/170, Reconstruction Accuracy: 0.3296\n",
            "Model saved at checkpoints/best_model.pth (Loss: 0.9541, Epoch: 80)\n"
          ]
        },
        {
          "output_type": "stream",
          "name": "stderr",
          "text": [
            "Training Epoch 81/170: 100%|██████████| 40/40 [00:03<00:00, 11.01it/s]\n"
          ]
        },
        {
          "output_type": "stream",
          "name": "stdout",
          "text": [
            "Epoch 81/170, Loss: 0.9434\n"
          ]
        },
        {
          "output_type": "stream",
          "name": "stderr",
          "text": [
            "Evaluating: 100%|██████████| 5/5 [00:04<00:00,  1.11it/s]\n"
          ]
        },
        {
          "output_type": "stream",
          "name": "stdout",
          "text": [
            "Epoch 81/170, Reconstruction Accuracy: 0.3366\n",
            "Model saved at checkpoints/best_model.pth (Loss: 0.9434, Epoch: 81)\n"
          ]
        },
        {
          "output_type": "stream",
          "name": "stderr",
          "text": [
            "Training Epoch 82/170: 100%|██████████| 40/40 [00:03<00:00, 11.06it/s]\n"
          ]
        },
        {
          "output_type": "stream",
          "name": "stdout",
          "text": [
            "Epoch 82/170, Loss: 0.9366\n"
          ]
        },
        {
          "output_type": "stream",
          "name": "stderr",
          "text": [
            "Evaluating: 100%|██████████| 5/5 [00:04<00:00,  1.06it/s]\n"
          ]
        },
        {
          "output_type": "stream",
          "name": "stdout",
          "text": [
            "Epoch 82/170, Reconstruction Accuracy: 0.3349\n",
            "Model saved at checkpoints/best_model.pth (Loss: 0.9366, Epoch: 82)\n"
          ]
        },
        {
          "output_type": "stream",
          "name": "stderr",
          "text": [
            "Training Epoch 83/170: 100%|██████████| 40/40 [00:03<00:00, 11.01it/s]\n"
          ]
        },
        {
          "output_type": "stream",
          "name": "stdout",
          "text": [
            "Epoch 83/170, Loss: 0.9219\n"
          ]
        },
        {
          "output_type": "stream",
          "name": "stderr",
          "text": [
            "Evaluating: 100%|██████████| 5/5 [00:04<00:00,  1.20it/s]\n"
          ]
        },
        {
          "output_type": "stream",
          "name": "stdout",
          "text": [
            "Epoch 83/170, Reconstruction Accuracy: 0.3294\n",
            "Model saved at checkpoints/best_model.pth (Loss: 0.9219, Epoch: 83)\n"
          ]
        },
        {
          "output_type": "stream",
          "name": "stderr",
          "text": [
            "Training Epoch 84/170: 100%|██████████| 40/40 [00:03<00:00, 11.01it/s]\n"
          ]
        },
        {
          "output_type": "stream",
          "name": "stdout",
          "text": [
            "Epoch 84/170, Loss: 0.9140\n"
          ]
        },
        {
          "output_type": "stream",
          "name": "stderr",
          "text": [
            "Evaluating: 100%|██████████| 5/5 [00:04<00:00,  1.13it/s]\n"
          ]
        },
        {
          "output_type": "stream",
          "name": "stdout",
          "text": [
            "Epoch 84/170, Reconstruction Accuracy: 0.3446\n",
            "Model saved at checkpoints/best_model.pth (Loss: 0.9140, Epoch: 84)\n"
          ]
        },
        {
          "output_type": "stream",
          "name": "stderr",
          "text": [
            "Training Epoch 85/170: 100%|██████████| 40/40 [00:03<00:00, 11.09it/s]\n"
          ]
        },
        {
          "output_type": "stream",
          "name": "stdout",
          "text": [
            "Epoch 85/170, Loss: 0.9055\n"
          ]
        },
        {
          "output_type": "stream",
          "name": "stderr",
          "text": [
            "Evaluating: 100%|██████████| 5/5 [00:04<00:00,  1.06it/s]\n"
          ]
        },
        {
          "output_type": "stream",
          "name": "stdout",
          "text": [
            "Epoch 85/170, Reconstruction Accuracy: 0.3230\n",
            "Model saved at checkpoints/best_model.pth (Loss: 0.9055, Epoch: 85)\n"
          ]
        },
        {
          "output_type": "stream",
          "name": "stderr",
          "text": [
            "Training Epoch 86/170: 100%|██████████| 40/40 [00:03<00:00, 11.04it/s]\n"
          ]
        },
        {
          "output_type": "stream",
          "name": "stdout",
          "text": [
            "Epoch 86/170, Loss: 0.8904\n"
          ]
        },
        {
          "output_type": "stream",
          "name": "stderr",
          "text": [
            "Evaluating: 100%|██████████| 5/5 [00:04<00:00,  1.21it/s]\n"
          ]
        },
        {
          "output_type": "stream",
          "name": "stdout",
          "text": [
            "Epoch 86/170, Reconstruction Accuracy: 0.3001\n",
            "Model saved at checkpoints/best_model.pth (Loss: 0.8904, Epoch: 86)\n"
          ]
        },
        {
          "output_type": "stream",
          "name": "stderr",
          "text": [
            "Training Epoch 87/170: 100%|██████████| 40/40 [00:03<00:00, 10.99it/s]\n"
          ]
        },
        {
          "output_type": "stream",
          "name": "stdout",
          "text": [
            "Epoch 87/170, Loss: 0.8770\n"
          ]
        },
        {
          "output_type": "stream",
          "name": "stderr",
          "text": [
            "Evaluating: 100%|██████████| 5/5 [00:04<00:00,  1.13it/s]\n"
          ]
        },
        {
          "output_type": "stream",
          "name": "stdout",
          "text": [
            "Epoch 87/170, Reconstruction Accuracy: 0.3293\n",
            "Model saved at checkpoints/best_model.pth (Loss: 0.8770, Epoch: 87)\n"
          ]
        },
        {
          "output_type": "stream",
          "name": "stderr",
          "text": [
            "Training Epoch 88/170: 100%|██████████| 40/40 [00:03<00:00, 11.06it/s]\n"
          ]
        },
        {
          "output_type": "stream",
          "name": "stdout",
          "text": [
            "Epoch 88/170, Loss: 0.8729\n"
          ]
        },
        {
          "output_type": "stream",
          "name": "stderr",
          "text": [
            "Evaluating: 100%|██████████| 5/5 [00:04<00:00,  1.06it/s]\n"
          ]
        },
        {
          "output_type": "stream",
          "name": "stdout",
          "text": [
            "Epoch 88/170, Reconstruction Accuracy: 0.3270\n",
            "Model saved at checkpoints/best_model.pth (Loss: 0.8729, Epoch: 88)\n"
          ]
        },
        {
          "output_type": "stream",
          "name": "stderr",
          "text": [
            "Training Epoch 89/170: 100%|██████████| 40/40 [00:03<00:00, 10.99it/s]\n"
          ]
        },
        {
          "output_type": "stream",
          "name": "stdout",
          "text": [
            "Epoch 89/170, Loss: 0.8662\n"
          ]
        },
        {
          "output_type": "stream",
          "name": "stderr",
          "text": [
            "Evaluating: 100%|██████████| 5/5 [00:04<00:00,  1.21it/s]\n"
          ]
        },
        {
          "output_type": "stream",
          "name": "stdout",
          "text": [
            "Epoch 89/170, Reconstruction Accuracy: 0.3277\n",
            "Model saved at checkpoints/best_model.pth (Loss: 0.8662, Epoch: 89)\n"
          ]
        },
        {
          "output_type": "stream",
          "name": "stderr",
          "text": [
            "Training Epoch 90/170: 100%|██████████| 40/40 [00:03<00:00, 11.01it/s]\n"
          ]
        },
        {
          "output_type": "stream",
          "name": "stdout",
          "text": [
            "Epoch 90/170, Loss: 0.8589\n"
          ]
        },
        {
          "output_type": "stream",
          "name": "stderr",
          "text": [
            "Evaluating: 100%|██████████| 5/5 [00:04<00:00,  1.14it/s]\n"
          ]
        },
        {
          "output_type": "stream",
          "name": "stdout",
          "text": [
            "Epoch 90/170, Reconstruction Accuracy: 0.3618\n",
            "Model saved at checkpoints/best_model.pth (Loss: 0.8589, Epoch: 90)\n"
          ]
        },
        {
          "output_type": "stream",
          "name": "stderr",
          "text": [
            "Training Epoch 91/170: 100%|██████████| 40/40 [00:03<00:00, 11.10it/s]\n"
          ]
        },
        {
          "output_type": "stream",
          "name": "stdout",
          "text": [
            "Epoch 91/170, Loss: 0.8443\n"
          ]
        },
        {
          "output_type": "stream",
          "name": "stderr",
          "text": [
            "Evaluating: 100%|██████████| 5/5 [00:04<00:00,  1.06it/s]\n"
          ]
        },
        {
          "output_type": "stream",
          "name": "stdout",
          "text": [
            "Epoch 91/170, Reconstruction Accuracy: 0.3390\n",
            "Model saved at checkpoints/best_model.pth (Loss: 0.8443, Epoch: 91)\n"
          ]
        },
        {
          "output_type": "stream",
          "name": "stderr",
          "text": [
            "Training Epoch 92/170: 100%|██████████| 40/40 [00:03<00:00, 11.04it/s]\n"
          ]
        },
        {
          "output_type": "stream",
          "name": "stdout",
          "text": [
            "Epoch 92/170, Loss: 0.8324\n"
          ]
        },
        {
          "output_type": "stream",
          "name": "stderr",
          "text": [
            "Evaluating: 100%|██████████| 5/5 [00:04<00:00,  1.21it/s]\n"
          ]
        },
        {
          "output_type": "stream",
          "name": "stdout",
          "text": [
            "Epoch 92/170, Reconstruction Accuracy: 0.3505\n",
            "Model saved at checkpoints/best_model.pth (Loss: 0.8324, Epoch: 92)\n"
          ]
        },
        {
          "output_type": "stream",
          "name": "stderr",
          "text": [
            "Training Epoch 93/170: 100%|██████████| 40/40 [00:03<00:00, 11.01it/s]\n"
          ]
        },
        {
          "output_type": "stream",
          "name": "stdout",
          "text": [
            "Epoch 93/170, Loss: 0.8238\n"
          ]
        },
        {
          "output_type": "stream",
          "name": "stderr",
          "text": [
            "Evaluating: 100%|██████████| 5/5 [00:04<00:00,  1.12it/s]\n"
          ]
        },
        {
          "output_type": "stream",
          "name": "stdout",
          "text": [
            "Epoch 93/170, Reconstruction Accuracy: 0.3355\n",
            "Model saved at checkpoints/best_model.pth (Loss: 0.8238, Epoch: 93)\n"
          ]
        },
        {
          "output_type": "stream",
          "name": "stderr",
          "text": [
            "Training Epoch 94/170: 100%|██████████| 40/40 [00:03<00:00, 11.07it/s]\n"
          ]
        },
        {
          "output_type": "stream",
          "name": "stdout",
          "text": [
            "Epoch 94/170, Loss: 0.8138\n"
          ]
        },
        {
          "output_type": "stream",
          "name": "stderr",
          "text": [
            "Evaluating: 100%|██████████| 5/5 [00:04<00:00,  1.06it/s]\n"
          ]
        },
        {
          "output_type": "stream",
          "name": "stdout",
          "text": [
            "Epoch 94/170, Reconstruction Accuracy: 0.3734\n",
            "Model saved at checkpoints/best_model.pth (Loss: 0.8138, Epoch: 94)\n"
          ]
        },
        {
          "output_type": "stream",
          "name": "stderr",
          "text": [
            "Training Epoch 95/170: 100%|██████████| 40/40 [00:03<00:00, 11.02it/s]\n"
          ]
        },
        {
          "output_type": "stream",
          "name": "stdout",
          "text": [
            "Epoch 95/170, Loss: 0.8044\n"
          ]
        },
        {
          "output_type": "stream",
          "name": "stderr",
          "text": [
            "Evaluating: 100%|██████████| 5/5 [00:04<00:00,  1.22it/s]\n"
          ]
        },
        {
          "output_type": "stream",
          "name": "stdout",
          "text": [
            "Epoch 95/170, Reconstruction Accuracy: 0.3496\n",
            "Model saved at checkpoints/best_model.pth (Loss: 0.8044, Epoch: 95)\n"
          ]
        },
        {
          "output_type": "stream",
          "name": "stderr",
          "text": [
            "Training Epoch 96/170: 100%|██████████| 40/40 [00:03<00:00, 10.99it/s]\n"
          ]
        },
        {
          "output_type": "stream",
          "name": "stdout",
          "text": [
            "Epoch 96/170, Loss: 0.7927\n"
          ]
        },
        {
          "output_type": "stream",
          "name": "stderr",
          "text": [
            "Evaluating: 100%|██████████| 5/5 [00:04<00:00,  1.13it/s]\n"
          ]
        },
        {
          "output_type": "stream",
          "name": "stdout",
          "text": [
            "Epoch 96/170, Reconstruction Accuracy: 0.3453\n",
            "Model saved at checkpoints/best_model.pth (Loss: 0.7927, Epoch: 96)\n"
          ]
        },
        {
          "output_type": "stream",
          "name": "stderr",
          "text": [
            "Training Epoch 97/170: 100%|██████████| 40/40 [00:03<00:00, 11.12it/s]\n"
          ]
        },
        {
          "output_type": "stream",
          "name": "stdout",
          "text": [
            "Epoch 97/170, Loss: 0.7929\n"
          ]
        },
        {
          "output_type": "stream",
          "name": "stderr",
          "text": [
            "Evaluating: 100%|██████████| 5/5 [00:04<00:00,  1.06it/s]\n"
          ]
        },
        {
          "output_type": "stream",
          "name": "stdout",
          "text": [
            "Epoch 97/170, Reconstruction Accuracy: 0.3588\n"
          ]
        },
        {
          "output_type": "stream",
          "name": "stderr",
          "text": [
            "Training Epoch 98/170: 100%|██████████| 40/40 [00:03<00:00, 11.04it/s]\n"
          ]
        },
        {
          "output_type": "stream",
          "name": "stdout",
          "text": [
            "Epoch 98/170, Loss: 0.7927\n"
          ]
        },
        {
          "output_type": "stream",
          "name": "stderr",
          "text": [
            "Evaluating: 100%|██████████| 5/5 [00:04<00:00,  1.21it/s]\n"
          ]
        },
        {
          "output_type": "stream",
          "name": "stdout",
          "text": [
            "Epoch 98/170, Reconstruction Accuracy: 0.3148\n"
          ]
        },
        {
          "output_type": "stream",
          "name": "stderr",
          "text": [
            "Training Epoch 99/170: 100%|██████████| 40/40 [00:03<00:00, 11.04it/s]\n"
          ]
        },
        {
          "output_type": "stream",
          "name": "stdout",
          "text": [
            "Epoch 99/170, Loss: 0.7799\n"
          ]
        },
        {
          "output_type": "stream",
          "name": "stderr",
          "text": [
            "Evaluating: 100%|██████████| 5/5 [00:04<00:00,  1.12it/s]\n"
          ]
        },
        {
          "output_type": "stream",
          "name": "stdout",
          "text": [
            "Epoch 99/170, Reconstruction Accuracy: 0.3430\n",
            "Model saved at checkpoints/best_model.pth (Loss: 0.7799, Epoch: 99)\n"
          ]
        },
        {
          "output_type": "stream",
          "name": "stderr",
          "text": [
            "Training Epoch 100/170: 100%|██████████| 40/40 [00:03<00:00, 11.07it/s]\n"
          ]
        },
        {
          "output_type": "stream",
          "name": "stdout",
          "text": [
            "Epoch 100/170, Loss: 0.7677\n"
          ]
        },
        {
          "output_type": "stream",
          "name": "stderr",
          "text": [
            "Evaluating: 100%|██████████| 5/5 [00:04<00:00,  1.09it/s]\n"
          ]
        },
        {
          "output_type": "stream",
          "name": "stdout",
          "text": [
            "Epoch 100/170, Reconstruction Accuracy: 0.3354\n",
            "Model saved at checkpoints/best_model.pth (Loss: 0.7677, Epoch: 100)\n"
          ]
        },
        {
          "output_type": "stream",
          "name": "stderr",
          "text": [
            "Training Epoch 101/170: 100%|██████████| 40/40 [00:03<00:00, 11.02it/s]\n"
          ]
        },
        {
          "output_type": "stream",
          "name": "stdout",
          "text": [
            "Epoch 101/170, Loss: 0.7520\n"
          ]
        },
        {
          "output_type": "stream",
          "name": "stderr",
          "text": [
            "Evaluating: 100%|██████████| 5/5 [00:04<00:00,  1.21it/s]\n"
          ]
        },
        {
          "output_type": "stream",
          "name": "stdout",
          "text": [
            "Epoch 101/170, Reconstruction Accuracy: 0.3664\n",
            "Model saved at checkpoints/best_model.pth (Loss: 0.7520, Epoch: 101)\n"
          ]
        },
        {
          "output_type": "stream",
          "name": "stderr",
          "text": [
            "Training Epoch 102/170: 100%|██████████| 40/40 [00:03<00:00, 11.00it/s]\n"
          ]
        },
        {
          "output_type": "stream",
          "name": "stdout",
          "text": [
            "Epoch 102/170, Loss: 0.7421\n"
          ]
        },
        {
          "output_type": "stream",
          "name": "stderr",
          "text": [
            "Evaluating: 100%|██████████| 5/5 [00:04<00:00,  1.11it/s]\n"
          ]
        },
        {
          "output_type": "stream",
          "name": "stdout",
          "text": [
            "Epoch 102/170, Reconstruction Accuracy: 0.3413\n",
            "Model saved at checkpoints/best_model.pth (Loss: 0.7421, Epoch: 102)\n"
          ]
        },
        {
          "output_type": "stream",
          "name": "stderr",
          "text": [
            "Training Epoch 103/170: 100%|██████████| 40/40 [00:03<00:00, 11.10it/s]\n"
          ]
        },
        {
          "output_type": "stream",
          "name": "stdout",
          "text": [
            "Epoch 103/170, Loss: 0.7375\n"
          ]
        },
        {
          "output_type": "stream",
          "name": "stderr",
          "text": [
            "Evaluating: 100%|██████████| 5/5 [00:04<00:00,  1.08it/s]\n"
          ]
        },
        {
          "output_type": "stream",
          "name": "stdout",
          "text": [
            "Epoch 103/170, Reconstruction Accuracy: 0.3584\n",
            "Model saved at checkpoints/best_model.pth (Loss: 0.7375, Epoch: 103)\n"
          ]
        },
        {
          "output_type": "stream",
          "name": "stderr",
          "text": [
            "Training Epoch 104/170: 100%|██████████| 40/40 [00:03<00:00, 11.05it/s]\n"
          ]
        },
        {
          "output_type": "stream",
          "name": "stdout",
          "text": [
            "Epoch 104/170, Loss: 0.7291\n"
          ]
        },
        {
          "output_type": "stream",
          "name": "stderr",
          "text": [
            "Evaluating: 100%|██████████| 5/5 [00:04<00:00,  1.20it/s]\n"
          ]
        },
        {
          "output_type": "stream",
          "name": "stdout",
          "text": [
            "Epoch 104/170, Reconstruction Accuracy: 0.3271\n",
            "Model saved at checkpoints/best_model.pth (Loss: 0.7291, Epoch: 104)\n"
          ]
        },
        {
          "output_type": "stream",
          "name": "stderr",
          "text": [
            "Training Epoch 105/170: 100%|██████████| 40/40 [00:03<00:00, 11.02it/s]\n"
          ]
        },
        {
          "output_type": "stream",
          "name": "stdout",
          "text": [
            "Epoch 105/170, Loss: 0.7200\n"
          ]
        },
        {
          "output_type": "stream",
          "name": "stderr",
          "text": [
            "Evaluating: 100%|██████████| 5/5 [00:04<00:00,  1.12it/s]\n"
          ]
        },
        {
          "output_type": "stream",
          "name": "stdout",
          "text": [
            "Epoch 105/170, Reconstruction Accuracy: 0.3314\n",
            "Model saved at checkpoints/best_model.pth (Loss: 0.7200, Epoch: 105)\n"
          ]
        },
        {
          "output_type": "stream",
          "name": "stderr",
          "text": [
            "Training Epoch 106/170: 100%|██████████| 40/40 [00:03<00:00, 11.10it/s]\n"
          ]
        },
        {
          "output_type": "stream",
          "name": "stdout",
          "text": [
            "Epoch 106/170, Loss: 0.7060\n"
          ]
        },
        {
          "output_type": "stream",
          "name": "stderr",
          "text": [
            "Evaluating: 100%|██████████| 5/5 [00:04<00:00,  1.08it/s]\n"
          ]
        },
        {
          "output_type": "stream",
          "name": "stdout",
          "text": [
            "Epoch 106/170, Reconstruction Accuracy: 0.3400\n",
            "Model saved at checkpoints/best_model.pth (Loss: 0.7060, Epoch: 106)\n"
          ]
        },
        {
          "output_type": "stream",
          "name": "stderr",
          "text": [
            "Training Epoch 107/170: 100%|██████████| 40/40 [00:03<00:00, 11.00it/s]\n"
          ]
        },
        {
          "output_type": "stream",
          "name": "stdout",
          "text": [
            "Epoch 107/170, Loss: 0.6991\n"
          ]
        },
        {
          "output_type": "stream",
          "name": "stderr",
          "text": [
            "Evaluating: 100%|██████████| 5/5 [00:04<00:00,  1.20it/s]\n"
          ]
        },
        {
          "output_type": "stream",
          "name": "stdout",
          "text": [
            "Epoch 107/170, Reconstruction Accuracy: 0.3696\n",
            "Model saved at checkpoints/best_model.pth (Loss: 0.6991, Epoch: 107)\n"
          ]
        },
        {
          "output_type": "stream",
          "name": "stderr",
          "text": [
            "Training Epoch 108/170: 100%|██████████| 40/40 [00:03<00:00, 11.02it/s]\n"
          ]
        },
        {
          "output_type": "stream",
          "name": "stdout",
          "text": [
            "Epoch 108/170, Loss: 0.6968\n"
          ]
        },
        {
          "output_type": "stream",
          "name": "stderr",
          "text": [
            "Evaluating: 100%|██████████| 5/5 [00:04<00:00,  1.11it/s]\n"
          ]
        },
        {
          "output_type": "stream",
          "name": "stdout",
          "text": [
            "Epoch 108/170, Reconstruction Accuracy: 0.3655\n",
            "Model saved at checkpoints/best_model.pth (Loss: 0.6968, Epoch: 108)\n"
          ]
        },
        {
          "output_type": "stream",
          "name": "stderr",
          "text": [
            "Training Epoch 109/170: 100%|██████████| 40/40 [00:03<00:00, 11.08it/s]\n"
          ]
        },
        {
          "output_type": "stream",
          "name": "stdout",
          "text": [
            "Epoch 109/170, Loss: 0.6861\n"
          ]
        },
        {
          "output_type": "stream",
          "name": "stderr",
          "text": [
            "Evaluating: 100%|██████████| 5/5 [00:04<00:00,  1.07it/s]\n"
          ]
        },
        {
          "output_type": "stream",
          "name": "stdout",
          "text": [
            "Epoch 109/170, Reconstruction Accuracy: 0.3564\n",
            "Model saved at checkpoints/best_model.pth (Loss: 0.6861, Epoch: 109)\n"
          ]
        },
        {
          "output_type": "stream",
          "name": "stderr",
          "text": [
            "Training Epoch 110/170: 100%|██████████| 40/40 [00:03<00:00, 10.97it/s]\n"
          ]
        },
        {
          "output_type": "stream",
          "name": "stdout",
          "text": [
            "Epoch 110/170, Loss: 0.6750\n"
          ]
        },
        {
          "output_type": "stream",
          "name": "stderr",
          "text": [
            "Evaluating: 100%|██████████| 5/5 [00:04<00:00,  1.21it/s]\n"
          ]
        },
        {
          "output_type": "stream",
          "name": "stdout",
          "text": [
            "Epoch 110/170, Reconstruction Accuracy: 0.3632\n",
            "Model saved at checkpoints/best_model.pth (Loss: 0.6750, Epoch: 110)\n"
          ]
        },
        {
          "output_type": "stream",
          "name": "stderr",
          "text": [
            "Training Epoch 111/170: 100%|██████████| 40/40 [00:03<00:00, 11.03it/s]\n"
          ]
        },
        {
          "output_type": "stream",
          "name": "stdout",
          "text": [
            "Epoch 111/170, Loss: 0.6693\n"
          ]
        },
        {
          "output_type": "stream",
          "name": "stderr",
          "text": [
            "Evaluating: 100%|██████████| 5/5 [00:04<00:00,  1.13it/s]\n"
          ]
        },
        {
          "output_type": "stream",
          "name": "stdout",
          "text": [
            "Epoch 111/170, Reconstruction Accuracy: 0.3394\n",
            "Model saved at checkpoints/best_model.pth (Loss: 0.6693, Epoch: 111)\n"
          ]
        },
        {
          "output_type": "stream",
          "name": "stderr",
          "text": [
            "Training Epoch 112/170: 100%|██████████| 40/40 [00:03<00:00, 11.07it/s]\n"
          ]
        },
        {
          "output_type": "stream",
          "name": "stdout",
          "text": [
            "Epoch 112/170, Loss: 0.6606\n"
          ]
        },
        {
          "output_type": "stream",
          "name": "stderr",
          "text": [
            "Evaluating: 100%|██████████| 5/5 [00:04<00:00,  1.08it/s]\n"
          ]
        },
        {
          "output_type": "stream",
          "name": "stdout",
          "text": [
            "Epoch 112/170, Reconstruction Accuracy: 0.3751\n",
            "Model saved at checkpoints/best_model.pth (Loss: 0.6606, Epoch: 112)\n"
          ]
        },
        {
          "output_type": "stream",
          "name": "stderr",
          "text": [
            "Training Epoch 113/170: 100%|██████████| 40/40 [00:03<00:00, 11.01it/s]\n"
          ]
        },
        {
          "output_type": "stream",
          "name": "stdout",
          "text": [
            "Epoch 113/170, Loss: 0.6540\n"
          ]
        },
        {
          "output_type": "stream",
          "name": "stderr",
          "text": [
            "Evaluating: 100%|██████████| 5/5 [00:04<00:00,  1.22it/s]\n"
          ]
        },
        {
          "output_type": "stream",
          "name": "stdout",
          "text": [
            "Epoch 113/170, Reconstruction Accuracy: 0.3341\n",
            "Model saved at checkpoints/best_model.pth (Loss: 0.6540, Epoch: 113)\n"
          ]
        },
        {
          "output_type": "stream",
          "name": "stderr",
          "text": [
            "Training Epoch 114/170: 100%|██████████| 40/40 [00:03<00:00, 11.01it/s]\n"
          ]
        },
        {
          "output_type": "stream",
          "name": "stdout",
          "text": [
            "Epoch 114/170, Loss: 0.6460\n"
          ]
        },
        {
          "output_type": "stream",
          "name": "stderr",
          "text": [
            "Evaluating: 100%|██████████| 5/5 [00:04<00:00,  1.12it/s]\n"
          ]
        },
        {
          "output_type": "stream",
          "name": "stdout",
          "text": [
            "Epoch 114/170, Reconstruction Accuracy: 0.3327\n",
            "Model saved at checkpoints/best_model.pth (Loss: 0.6460, Epoch: 114)\n"
          ]
        },
        {
          "output_type": "stream",
          "name": "stderr",
          "text": [
            "Training Epoch 115/170: 100%|██████████| 40/40 [00:03<00:00, 11.11it/s]\n"
          ]
        },
        {
          "output_type": "stream",
          "name": "stdout",
          "text": [
            "Epoch 115/170, Loss: 0.6442\n"
          ]
        },
        {
          "output_type": "stream",
          "name": "stderr",
          "text": [
            "Evaluating: 100%|██████████| 5/5 [00:04<00:00,  1.06it/s]\n"
          ]
        },
        {
          "output_type": "stream",
          "name": "stdout",
          "text": [
            "Epoch 115/170, Reconstruction Accuracy: 0.3577\n",
            "Model saved at checkpoints/best_model.pth (Loss: 0.6442, Epoch: 115)\n"
          ]
        },
        {
          "output_type": "stream",
          "name": "stderr",
          "text": [
            "Training Epoch 116/170: 100%|██████████| 40/40 [00:03<00:00, 11.08it/s]\n"
          ]
        },
        {
          "output_type": "stream",
          "name": "stdout",
          "text": [
            "Epoch 116/170, Loss: 0.6289\n"
          ]
        },
        {
          "output_type": "stream",
          "name": "stderr",
          "text": [
            "Evaluating: 100%|██████████| 5/5 [00:04<00:00,  1.22it/s]\n"
          ]
        },
        {
          "output_type": "stream",
          "name": "stdout",
          "text": [
            "Epoch 116/170, Reconstruction Accuracy: 0.3586\n",
            "Model saved at checkpoints/best_model.pth (Loss: 0.6289, Epoch: 116)\n"
          ]
        },
        {
          "output_type": "stream",
          "name": "stderr",
          "text": [
            "Training Epoch 117/170: 100%|██████████| 40/40 [00:03<00:00, 11.06it/s]\n"
          ]
        },
        {
          "output_type": "stream",
          "name": "stdout",
          "text": [
            "Epoch 117/170, Loss: 0.6220\n"
          ]
        },
        {
          "output_type": "stream",
          "name": "stderr",
          "text": [
            "Evaluating: 100%|██████████| 5/5 [00:06<00:00,  1.37s/it]\n"
          ]
        },
        {
          "output_type": "stream",
          "name": "stdout",
          "text": [
            "Epoch 117/170, Reconstruction Accuracy: 0.3374\n",
            "Model saved at checkpoints/best_model.pth (Loss: 0.6220, Epoch: 117)\n"
          ]
        },
        {
          "output_type": "stream",
          "name": "stderr",
          "text": [
            "Training Epoch 118/170: 100%|██████████| 40/40 [00:03<00:00, 10.21it/s]\n"
          ]
        },
        {
          "output_type": "stream",
          "name": "stdout",
          "text": [
            "Epoch 118/170, Loss: 0.6096\n"
          ]
        },
        {
          "output_type": "stream",
          "name": "stderr",
          "text": [
            "Evaluating: 100%|██████████| 5/5 [00:06<00:00,  1.37s/it]\n"
          ]
        },
        {
          "output_type": "stream",
          "name": "stdout",
          "text": [
            "Epoch 118/170, Reconstruction Accuracy: 0.3288\n",
            "Model saved at checkpoints/best_model.pth (Loss: 0.6096, Epoch: 118)\n"
          ]
        },
        {
          "output_type": "stream",
          "name": "stderr",
          "text": [
            "Training Epoch 119/170: 100%|██████████| 40/40 [00:03<00:00, 11.12it/s]\n"
          ]
        },
        {
          "output_type": "stream",
          "name": "stdout",
          "text": [
            "Epoch 119/170, Loss: 0.6051\n"
          ]
        },
        {
          "output_type": "stream",
          "name": "stderr",
          "text": [
            "Evaluating: 100%|██████████| 5/5 [00:04<00:00,  1.07it/s]\n"
          ]
        },
        {
          "output_type": "stream",
          "name": "stdout",
          "text": [
            "Epoch 119/170, Reconstruction Accuracy: 0.3340\n",
            "Model saved at checkpoints/best_model.pth (Loss: 0.6051, Epoch: 119)\n"
          ]
        },
        {
          "output_type": "stream",
          "name": "stderr",
          "text": [
            "Training Epoch 120/170: 100%|██████████| 40/40 [00:03<00:00, 11.01it/s]\n"
          ]
        },
        {
          "output_type": "stream",
          "name": "stdout",
          "text": [
            "Epoch 120/170, Loss: 0.5978\n"
          ]
        },
        {
          "output_type": "stream",
          "name": "stderr",
          "text": [
            "Evaluating: 100%|██████████| 5/5 [00:04<00:00,  1.21it/s]\n"
          ]
        },
        {
          "output_type": "stream",
          "name": "stdout",
          "text": [
            "Epoch 120/170, Reconstruction Accuracy: 0.3489\n",
            "Model saved at checkpoints/best_model.pth (Loss: 0.5978, Epoch: 120)\n"
          ]
        },
        {
          "output_type": "stream",
          "name": "stderr",
          "text": [
            "Training Epoch 121/170: 100%|██████████| 40/40 [00:03<00:00, 10.93it/s]\n"
          ]
        },
        {
          "output_type": "stream",
          "name": "stdout",
          "text": [
            "Epoch 121/170, Loss: 0.5938\n"
          ]
        },
        {
          "output_type": "stream",
          "name": "stderr",
          "text": [
            "Evaluating: 100%|██████████| 5/5 [00:04<00:00,  1.14it/s]\n"
          ]
        },
        {
          "output_type": "stream",
          "name": "stdout",
          "text": [
            "Epoch 121/170, Reconstruction Accuracy: 0.3394\n",
            "Model saved at checkpoints/best_model.pth (Loss: 0.5938, Epoch: 121)\n"
          ]
        },
        {
          "output_type": "stream",
          "name": "stderr",
          "text": [
            "Training Epoch 122/170: 100%|██████████| 40/40 [00:03<00:00, 11.04it/s]\n"
          ]
        },
        {
          "output_type": "stream",
          "name": "stdout",
          "text": [
            "Epoch 122/170, Loss: 0.5804\n"
          ]
        },
        {
          "output_type": "stream",
          "name": "stderr",
          "text": [
            "Evaluating: 100%|██████████| 5/5 [00:04<00:00,  1.04it/s]\n"
          ]
        },
        {
          "output_type": "stream",
          "name": "stdout",
          "text": [
            "Epoch 122/170, Reconstruction Accuracy: 0.3570\n",
            "Model saved at checkpoints/best_model.pth (Loss: 0.5804, Epoch: 122)\n"
          ]
        },
        {
          "output_type": "stream",
          "name": "stderr",
          "text": [
            "Training Epoch 123/170: 100%|██████████| 40/40 [00:03<00:00, 11.03it/s]\n"
          ]
        },
        {
          "output_type": "stream",
          "name": "stdout",
          "text": [
            "Epoch 123/170, Loss: 0.5723\n"
          ]
        },
        {
          "output_type": "stream",
          "name": "stderr",
          "text": [
            "Evaluating: 100%|██████████| 5/5 [00:04<00:00,  1.21it/s]\n"
          ]
        },
        {
          "output_type": "stream",
          "name": "stdout",
          "text": [
            "Epoch 123/170, Reconstruction Accuracy: 0.3512\n",
            "Model saved at checkpoints/best_model.pth (Loss: 0.5723, Epoch: 123)\n"
          ]
        },
        {
          "output_type": "stream",
          "name": "stderr",
          "text": [
            "Training Epoch 124/170: 100%|██████████| 40/40 [00:03<00:00, 11.01it/s]\n"
          ]
        },
        {
          "output_type": "stream",
          "name": "stdout",
          "text": [
            "Epoch 124/170, Loss: 0.5683\n"
          ]
        },
        {
          "output_type": "stream",
          "name": "stderr",
          "text": [
            "Evaluating: 100%|██████████| 5/5 [00:04<00:00,  1.14it/s]\n"
          ]
        },
        {
          "output_type": "stream",
          "name": "stdout",
          "text": [
            "Epoch 124/170, Reconstruction Accuracy: 0.3509\n",
            "Model saved at checkpoints/best_model.pth (Loss: 0.5683, Epoch: 124)\n"
          ]
        },
        {
          "output_type": "stream",
          "name": "stderr",
          "text": [
            "Training Epoch 125/170: 100%|██████████| 40/40 [00:03<00:00, 11.09it/s]\n"
          ]
        },
        {
          "output_type": "stream",
          "name": "stdout",
          "text": [
            "Epoch 125/170, Loss: 0.5619\n"
          ]
        },
        {
          "output_type": "stream",
          "name": "stderr",
          "text": [
            "Evaluating: 100%|██████████| 5/5 [00:04<00:00,  1.06it/s]\n"
          ]
        },
        {
          "output_type": "stream",
          "name": "stdout",
          "text": [
            "Epoch 125/170, Reconstruction Accuracy: 0.3638\n",
            "Model saved at checkpoints/best_model.pth (Loss: 0.5619, Epoch: 125)\n"
          ]
        },
        {
          "output_type": "stream",
          "name": "stderr",
          "text": [
            "Training Epoch 126/170: 100%|██████████| 40/40 [00:03<00:00, 11.07it/s]\n"
          ]
        },
        {
          "output_type": "stream",
          "name": "stdout",
          "text": [
            "Epoch 126/170, Loss: 0.5545\n"
          ]
        },
        {
          "output_type": "stream",
          "name": "stderr",
          "text": [
            "Evaluating: 100%|██████████| 5/5 [00:04<00:00,  1.21it/s]\n"
          ]
        },
        {
          "output_type": "stream",
          "name": "stdout",
          "text": [
            "Epoch 126/170, Reconstruction Accuracy: 0.3578\n",
            "Model saved at checkpoints/best_model.pth (Loss: 0.5545, Epoch: 126)\n"
          ]
        },
        {
          "output_type": "stream",
          "name": "stderr",
          "text": [
            "Training Epoch 127/170: 100%|██████████| 40/40 [00:03<00:00, 11.02it/s]\n"
          ]
        },
        {
          "output_type": "stream",
          "name": "stdout",
          "text": [
            "Epoch 127/170, Loss: 0.5539\n"
          ]
        },
        {
          "output_type": "stream",
          "name": "stderr",
          "text": [
            "Evaluating: 100%|██████████| 5/5 [00:04<00:00,  1.12it/s]\n"
          ]
        },
        {
          "output_type": "stream",
          "name": "stdout",
          "text": [
            "Epoch 127/170, Reconstruction Accuracy: 0.3334\n",
            "Model saved at checkpoints/best_model.pth (Loss: 0.5539, Epoch: 127)\n"
          ]
        },
        {
          "output_type": "stream",
          "name": "stderr",
          "text": [
            "Training Epoch 128/170: 100%|██████████| 40/40 [00:03<00:00, 11.09it/s]\n"
          ]
        },
        {
          "output_type": "stream",
          "name": "stdout",
          "text": [
            "Epoch 128/170, Loss: 0.5474\n"
          ]
        },
        {
          "output_type": "stream",
          "name": "stderr",
          "text": [
            "Evaluating: 100%|██████████| 5/5 [00:04<00:00,  1.07it/s]\n"
          ]
        },
        {
          "output_type": "stream",
          "name": "stdout",
          "text": [
            "Epoch 128/170, Reconstruction Accuracy: 0.3570\n",
            "Model saved at checkpoints/best_model.pth (Loss: 0.5474, Epoch: 128)\n"
          ]
        },
        {
          "output_type": "stream",
          "name": "stderr",
          "text": [
            "Training Epoch 129/170: 100%|██████████| 40/40 [00:03<00:00, 10.89it/s]\n"
          ]
        },
        {
          "output_type": "stream",
          "name": "stdout",
          "text": [
            "Epoch 129/170, Loss: 0.5324\n"
          ]
        },
        {
          "output_type": "stream",
          "name": "stderr",
          "text": [
            "Evaluating: 100%|██████████| 5/5 [00:04<00:00,  1.00it/s]\n"
          ]
        },
        {
          "output_type": "stream",
          "name": "stdout",
          "text": [
            "Epoch 129/170, Reconstruction Accuracy: 0.3523\n",
            "Model saved at checkpoints/best_model.pth (Loss: 0.5324, Epoch: 129)\n"
          ]
        },
        {
          "output_type": "stream",
          "name": "stderr",
          "text": [
            "Training Epoch 130/170: 100%|██████████| 40/40 [00:03<00:00, 10.93it/s]\n"
          ]
        },
        {
          "output_type": "stream",
          "name": "stdout",
          "text": [
            "Epoch 130/170, Loss: 0.5287\n"
          ]
        },
        {
          "output_type": "stream",
          "name": "stderr",
          "text": [
            "Evaluating: 100%|██████████| 5/5 [00:04<00:00,  1.22it/s]\n"
          ]
        },
        {
          "output_type": "stream",
          "name": "stdout",
          "text": [
            "Epoch 130/170, Reconstruction Accuracy: 0.3618\n",
            "Model saved at checkpoints/best_model.pth (Loss: 0.5287, Epoch: 130)\n"
          ]
        },
        {
          "output_type": "stream",
          "name": "stderr",
          "text": [
            "Training Epoch 131/170: 100%|██████████| 40/40 [00:03<00:00, 11.07it/s]\n"
          ]
        },
        {
          "output_type": "stream",
          "name": "stdout",
          "text": [
            "Epoch 131/170, Loss: 0.5200\n"
          ]
        },
        {
          "output_type": "stream",
          "name": "stderr",
          "text": [
            "Evaluating: 100%|██████████| 5/5 [00:04<00:00,  1.03it/s]\n"
          ]
        },
        {
          "output_type": "stream",
          "name": "stdout",
          "text": [
            "Epoch 131/170, Reconstruction Accuracy: 0.3585\n",
            "Model saved at checkpoints/best_model.pth (Loss: 0.5200, Epoch: 131)\n"
          ]
        },
        {
          "output_type": "stream",
          "name": "stderr",
          "text": [
            "Training Epoch 132/170: 100%|██████████| 40/40 [00:03<00:00, 11.06it/s]\n"
          ]
        },
        {
          "output_type": "stream",
          "name": "stdout",
          "text": [
            "Epoch 132/170, Loss: 0.5133\n"
          ]
        },
        {
          "output_type": "stream",
          "name": "stderr",
          "text": [
            "Evaluating: 100%|██████████| 5/5 [00:04<00:00,  1.20it/s]\n"
          ]
        },
        {
          "output_type": "stream",
          "name": "stdout",
          "text": [
            "Epoch 132/170, Reconstruction Accuracy: 0.3479\n",
            "Model saved at checkpoints/best_model.pth (Loss: 0.5133, Epoch: 132)\n"
          ]
        },
        {
          "output_type": "stream",
          "name": "stderr",
          "text": [
            "Training Epoch 133/170: 100%|██████████| 40/40 [00:03<00:00, 10.91it/s]\n"
          ]
        },
        {
          "output_type": "stream",
          "name": "stdout",
          "text": [
            "Epoch 133/170, Loss: 0.5077\n"
          ]
        },
        {
          "output_type": "stream",
          "name": "stderr",
          "text": [
            "Evaluating: 100%|██████████| 5/5 [00:04<00:00,  1.18it/s]\n"
          ]
        },
        {
          "output_type": "stream",
          "name": "stdout",
          "text": [
            "Epoch 133/170, Reconstruction Accuracy: 0.3536\n",
            "Model saved at checkpoints/best_model.pth (Loss: 0.5077, Epoch: 133)\n"
          ]
        },
        {
          "output_type": "stream",
          "name": "stderr",
          "text": [
            "Training Epoch 134/170: 100%|██████████| 40/40 [00:03<00:00, 11.06it/s]\n"
          ]
        },
        {
          "output_type": "stream",
          "name": "stdout",
          "text": [
            "Epoch 134/170, Loss: 0.5031\n"
          ]
        },
        {
          "output_type": "stream",
          "name": "stderr",
          "text": [
            "Evaluating: 100%|██████████| 5/5 [00:04<00:00,  1.04it/s]\n"
          ]
        },
        {
          "output_type": "stream",
          "name": "stdout",
          "text": [
            "Epoch 134/170, Reconstruction Accuracy: 0.3593\n",
            "Model saved at checkpoints/best_model.pth (Loss: 0.5031, Epoch: 134)\n"
          ]
        },
        {
          "output_type": "stream",
          "name": "stderr",
          "text": [
            "Training Epoch 135/170: 100%|██████████| 40/40 [00:03<00:00, 11.07it/s]\n"
          ]
        },
        {
          "output_type": "stream",
          "name": "stdout",
          "text": [
            "Epoch 135/170, Loss: 0.4969\n"
          ]
        },
        {
          "output_type": "stream",
          "name": "stderr",
          "text": [
            "Evaluating: 100%|██████████| 5/5 [00:04<00:00,  1.17it/s]\n"
          ]
        },
        {
          "output_type": "stream",
          "name": "stdout",
          "text": [
            "Epoch 135/170, Reconstruction Accuracy: 0.3286\n",
            "Model saved at checkpoints/best_model.pth (Loss: 0.4969, Epoch: 135)\n"
          ]
        },
        {
          "output_type": "stream",
          "name": "stderr",
          "text": [
            "Training Epoch 136/170: 100%|██████████| 40/40 [00:03<00:00, 10.94it/s]\n"
          ]
        },
        {
          "output_type": "stream",
          "name": "stdout",
          "text": [
            "Epoch 136/170, Loss: 0.4880\n"
          ]
        },
        {
          "output_type": "stream",
          "name": "stderr",
          "text": [
            "Evaluating: 100%|██████████| 5/5 [00:04<00:00,  1.17it/s]\n"
          ]
        },
        {
          "output_type": "stream",
          "name": "stdout",
          "text": [
            "Epoch 136/170, Reconstruction Accuracy: 0.3376\n",
            "Model saved at checkpoints/best_model.pth (Loss: 0.4880, Epoch: 136)\n"
          ]
        },
        {
          "output_type": "stream",
          "name": "stderr",
          "text": [
            "Training Epoch 137/170: 100%|██████████| 40/40 [00:03<00:00, 11.10it/s]\n"
          ]
        },
        {
          "output_type": "stream",
          "name": "stdout",
          "text": [
            "Epoch 137/170, Loss: 0.4811\n"
          ]
        },
        {
          "output_type": "stream",
          "name": "stderr",
          "text": [
            "Evaluating: 100%|██████████| 5/5 [00:04<00:00,  1.02it/s]\n"
          ]
        },
        {
          "output_type": "stream",
          "name": "stdout",
          "text": [
            "Epoch 137/170, Reconstruction Accuracy: 0.3655\n",
            "Model saved at checkpoints/best_model.pth (Loss: 0.4811, Epoch: 137)\n"
          ]
        },
        {
          "output_type": "stream",
          "name": "stderr",
          "text": [
            "Training Epoch 138/170: 100%|██████████| 40/40 [00:03<00:00, 11.11it/s]\n"
          ]
        },
        {
          "output_type": "stream",
          "name": "stdout",
          "text": [
            "Epoch 138/170, Loss: 0.4816\n"
          ]
        },
        {
          "output_type": "stream",
          "name": "stderr",
          "text": [
            "Evaluating: 100%|██████████| 5/5 [00:04<00:00,  1.17it/s]\n"
          ]
        },
        {
          "output_type": "stream",
          "name": "stdout",
          "text": [
            "Epoch 138/170, Reconstruction Accuracy: 0.3742\n"
          ]
        },
        {
          "output_type": "stream",
          "name": "stderr",
          "text": [
            "Training Epoch 139/170: 100%|██████████| 40/40 [00:03<00:00, 10.94it/s]\n"
          ]
        },
        {
          "output_type": "stream",
          "name": "stdout",
          "text": [
            "Epoch 139/170, Loss: 0.4738\n"
          ]
        },
        {
          "output_type": "stream",
          "name": "stderr",
          "text": [
            "Evaluating: 100%|██████████| 5/5 [00:04<00:00,  1.17it/s]\n"
          ]
        },
        {
          "output_type": "stream",
          "name": "stdout",
          "text": [
            "Epoch 139/170, Reconstruction Accuracy: 0.3537\n",
            "Model saved at checkpoints/best_model.pth (Loss: 0.4738, Epoch: 139)\n"
          ]
        },
        {
          "output_type": "stream",
          "name": "stderr",
          "text": [
            "Training Epoch 140/170: 100%|██████████| 40/40 [00:03<00:00, 11.06it/s]\n"
          ]
        },
        {
          "output_type": "stream",
          "name": "stdout",
          "text": [
            "Epoch 140/170, Loss: 0.4680\n"
          ]
        },
        {
          "output_type": "stream",
          "name": "stderr",
          "text": [
            "Evaluating: 100%|██████████| 5/5 [00:04<00:00,  1.01it/s]\n"
          ]
        },
        {
          "output_type": "stream",
          "name": "stdout",
          "text": [
            "Epoch 140/170, Reconstruction Accuracy: 0.3545\n",
            "Model saved at checkpoints/best_model.pth (Loss: 0.4680, Epoch: 140)\n"
          ]
        },
        {
          "output_type": "stream",
          "name": "stderr",
          "text": [
            "Training Epoch 141/170: 100%|██████████| 40/40 [00:03<00:00, 11.05it/s]\n"
          ]
        },
        {
          "output_type": "stream",
          "name": "stdout",
          "text": [
            "Epoch 141/170, Loss: 0.4619\n"
          ]
        },
        {
          "output_type": "stream",
          "name": "stderr",
          "text": [
            "Evaluating: 100%|██████████| 5/5 [00:04<00:00,  1.19it/s]\n"
          ]
        },
        {
          "output_type": "stream",
          "name": "stdout",
          "text": [
            "Epoch 141/170, Reconstruction Accuracy: 0.3462\n",
            "Model saved at checkpoints/best_model.pth (Loss: 0.4619, Epoch: 141)\n"
          ]
        },
        {
          "output_type": "stream",
          "name": "stderr",
          "text": [
            "Training Epoch 142/170: 100%|██████████| 40/40 [00:03<00:00, 10.90it/s]\n"
          ]
        },
        {
          "output_type": "stream",
          "name": "stdout",
          "text": [
            "Epoch 142/170, Loss: 0.4546\n"
          ]
        },
        {
          "output_type": "stream",
          "name": "stderr",
          "text": [
            "Evaluating: 100%|██████████| 5/5 [00:04<00:00,  1.17it/s]\n"
          ]
        },
        {
          "output_type": "stream",
          "name": "stdout",
          "text": [
            "Epoch 142/170, Reconstruction Accuracy: 0.3732\n",
            "Model saved at checkpoints/best_model.pth (Loss: 0.4546, Epoch: 142)\n"
          ]
        },
        {
          "output_type": "stream",
          "name": "stderr",
          "text": [
            "Training Epoch 143/170: 100%|██████████| 40/40 [00:03<00:00, 11.05it/s]\n"
          ]
        },
        {
          "output_type": "stream",
          "name": "stdout",
          "text": [
            "Epoch 143/170, Loss: 0.4568\n"
          ]
        },
        {
          "output_type": "stream",
          "name": "stderr",
          "text": [
            "Evaluating: 100%|██████████| 5/5 [00:04<00:00,  1.01it/s]\n"
          ]
        },
        {
          "output_type": "stream",
          "name": "stdout",
          "text": [
            "Epoch 143/170, Reconstruction Accuracy: 0.3455\n"
          ]
        },
        {
          "output_type": "stream",
          "name": "stderr",
          "text": [
            "Training Epoch 144/170: 100%|██████████| 40/40 [00:03<00:00, 11.08it/s]\n"
          ]
        },
        {
          "output_type": "stream",
          "name": "stdout",
          "text": [
            "Epoch 144/170, Loss: 0.4513\n"
          ]
        },
        {
          "output_type": "stream",
          "name": "stderr",
          "text": [
            "Evaluating: 100%|██████████| 5/5 [00:04<00:00,  1.18it/s]\n"
          ]
        },
        {
          "output_type": "stream",
          "name": "stdout",
          "text": [
            "Epoch 144/170, Reconstruction Accuracy: 0.3551\n",
            "Model saved at checkpoints/best_model.pth (Loss: 0.4513, Epoch: 144)\n"
          ]
        },
        {
          "output_type": "stream",
          "name": "stderr",
          "text": [
            "Training Epoch 145/170: 100%|██████████| 40/40 [00:03<00:00, 10.95it/s]\n"
          ]
        },
        {
          "output_type": "stream",
          "name": "stdout",
          "text": [
            "Epoch 145/170, Loss: 0.4386\n"
          ]
        },
        {
          "output_type": "stream",
          "name": "stderr",
          "text": [
            "Evaluating: 100%|██████████| 5/5 [00:04<00:00,  1.16it/s]\n"
          ]
        },
        {
          "output_type": "stream",
          "name": "stdout",
          "text": [
            "Epoch 145/170, Reconstruction Accuracy: 0.3661\n",
            "Model saved at checkpoints/best_model.pth (Loss: 0.4386, Epoch: 145)\n"
          ]
        },
        {
          "output_type": "stream",
          "name": "stderr",
          "text": [
            "Training Epoch 146/170: 100%|██████████| 40/40 [00:03<00:00, 11.05it/s]\n"
          ]
        },
        {
          "output_type": "stream",
          "name": "stdout",
          "text": [
            "Epoch 146/170, Loss: 0.4325\n"
          ]
        },
        {
          "output_type": "stream",
          "name": "stderr",
          "text": [
            "Evaluating: 100%|██████████| 5/5 [00:04<00:00,  1.02it/s]\n"
          ]
        },
        {
          "output_type": "stream",
          "name": "stdout",
          "text": [
            "Epoch 146/170, Reconstruction Accuracy: 0.3392\n",
            "Model saved at checkpoints/best_model.pth (Loss: 0.4325, Epoch: 146)\n"
          ]
        },
        {
          "output_type": "stream",
          "name": "stderr",
          "text": [
            "Training Epoch 147/170: 100%|██████████| 40/40 [00:03<00:00, 11.06it/s]\n"
          ]
        },
        {
          "output_type": "stream",
          "name": "stdout",
          "text": [
            "Epoch 147/170, Loss: 0.4242\n"
          ]
        },
        {
          "output_type": "stream",
          "name": "stderr",
          "text": [
            "Evaluating: 100%|██████████| 5/5 [00:04<00:00,  1.19it/s]\n"
          ]
        },
        {
          "output_type": "stream",
          "name": "stdout",
          "text": [
            "Epoch 147/170, Reconstruction Accuracy: 0.3484\n",
            "Model saved at checkpoints/best_model.pth (Loss: 0.4242, Epoch: 147)\n"
          ]
        },
        {
          "output_type": "stream",
          "name": "stderr",
          "text": [
            "Training Epoch 148/170: 100%|██████████| 40/40 [00:03<00:00, 10.94it/s]\n"
          ]
        },
        {
          "output_type": "stream",
          "name": "stdout",
          "text": [
            "Epoch 148/170, Loss: 0.4233\n"
          ]
        },
        {
          "output_type": "stream",
          "name": "stderr",
          "text": [
            "Evaluating: 100%|██████████| 5/5 [00:04<00:00,  1.18it/s]\n"
          ]
        },
        {
          "output_type": "stream",
          "name": "stdout",
          "text": [
            "Epoch 148/170, Reconstruction Accuracy: 0.3763\n",
            "Model saved at checkpoints/best_model.pth (Loss: 0.4233, Epoch: 148)\n"
          ]
        },
        {
          "output_type": "stream",
          "name": "stderr",
          "text": [
            "Training Epoch 149/170: 100%|██████████| 40/40 [00:03<00:00, 11.07it/s]\n"
          ]
        },
        {
          "output_type": "stream",
          "name": "stdout",
          "text": [
            "Epoch 149/170, Loss: 0.4257\n"
          ]
        },
        {
          "output_type": "stream",
          "name": "stderr",
          "text": [
            "Evaluating: 100%|██████████| 5/5 [00:04<00:00,  1.02it/s]\n"
          ]
        },
        {
          "output_type": "stream",
          "name": "stdout",
          "text": [
            "Epoch 149/170, Reconstruction Accuracy: 0.3513\n"
          ]
        },
        {
          "output_type": "stream",
          "name": "stderr",
          "text": [
            "Training Epoch 150/170: 100%|██████████| 40/40 [00:03<00:00, 11.04it/s]\n"
          ]
        },
        {
          "output_type": "stream",
          "name": "stdout",
          "text": [
            "Epoch 150/170, Loss: 0.4161\n"
          ]
        },
        {
          "output_type": "stream",
          "name": "stderr",
          "text": [
            "Evaluating: 100%|██████████| 5/5 [00:04<00:00,  1.20it/s]\n"
          ]
        },
        {
          "output_type": "stream",
          "name": "stdout",
          "text": [
            "Epoch 150/170, Reconstruction Accuracy: 0.3543\n",
            "Model saved at checkpoints/best_model.pth (Loss: 0.4161, Epoch: 150)\n"
          ]
        },
        {
          "output_type": "stream",
          "name": "stderr",
          "text": [
            "Training Epoch 151/170: 100%|██████████| 40/40 [00:03<00:00, 10.99it/s]\n"
          ]
        },
        {
          "output_type": "stream",
          "name": "stdout",
          "text": [
            "Epoch 151/170, Loss: 0.4137\n"
          ]
        },
        {
          "output_type": "stream",
          "name": "stderr",
          "text": [
            "Evaluating: 100%|██████████| 5/5 [00:04<00:00,  1.17it/s]\n"
          ]
        },
        {
          "output_type": "stream",
          "name": "stdout",
          "text": [
            "Epoch 151/170, Reconstruction Accuracy: 0.3619\n",
            "Model saved at checkpoints/best_model.pth (Loss: 0.4137, Epoch: 151)\n"
          ]
        },
        {
          "output_type": "stream",
          "name": "stderr",
          "text": [
            "Training Epoch 152/170: 100%|██████████| 40/40 [00:03<00:00, 11.06it/s]\n"
          ]
        },
        {
          "output_type": "stream",
          "name": "stdout",
          "text": [
            "Epoch 152/170, Loss: 0.4132\n"
          ]
        },
        {
          "output_type": "stream",
          "name": "stderr",
          "text": [
            "Evaluating: 100%|██████████| 5/5 [00:04<00:00,  1.03it/s]\n"
          ]
        },
        {
          "output_type": "stream",
          "name": "stdout",
          "text": [
            "Epoch 152/170, Reconstruction Accuracy: 0.3576\n",
            "Model saved at checkpoints/best_model.pth (Loss: 0.4132, Epoch: 152)\n"
          ]
        },
        {
          "output_type": "stream",
          "name": "stderr",
          "text": [
            "Training Epoch 153/170: 100%|██████████| 40/40 [00:03<00:00, 11.05it/s]\n"
          ]
        },
        {
          "output_type": "stream",
          "name": "stdout",
          "text": [
            "Epoch 153/170, Loss: 0.4040\n"
          ]
        },
        {
          "output_type": "stream",
          "name": "stderr",
          "text": [
            "Evaluating: 100%|██████████| 5/5 [00:04<00:00,  1.21it/s]\n"
          ]
        },
        {
          "output_type": "stream",
          "name": "stdout",
          "text": [
            "Epoch 153/170, Reconstruction Accuracy: 0.3530\n",
            "Model saved at checkpoints/best_model.pth (Loss: 0.4040, Epoch: 153)\n"
          ]
        },
        {
          "output_type": "stream",
          "name": "stderr",
          "text": [
            "Training Epoch 154/170: 100%|██████████| 40/40 [00:03<00:00, 10.97it/s]\n"
          ]
        },
        {
          "output_type": "stream",
          "name": "stdout",
          "text": [
            "Epoch 154/170, Loss: 0.3991\n"
          ]
        },
        {
          "output_type": "stream",
          "name": "stderr",
          "text": [
            "Evaluating: 100%|██████████| 5/5 [00:04<00:00,  1.16it/s]\n"
          ]
        },
        {
          "output_type": "stream",
          "name": "stdout",
          "text": [
            "Epoch 154/170, Reconstruction Accuracy: 0.3589\n",
            "Model saved at checkpoints/best_model.pth (Loss: 0.3991, Epoch: 154)\n"
          ]
        },
        {
          "output_type": "stream",
          "name": "stderr",
          "text": [
            "Training Epoch 155/170: 100%|██████████| 40/40 [00:03<00:00, 11.05it/s]\n"
          ]
        },
        {
          "output_type": "stream",
          "name": "stdout",
          "text": [
            "Epoch 155/170, Loss: 0.3966\n"
          ]
        },
        {
          "output_type": "stream",
          "name": "stderr",
          "text": [
            "Evaluating: 100%|██████████| 5/5 [00:04<00:00,  1.03it/s]\n"
          ]
        },
        {
          "output_type": "stream",
          "name": "stdout",
          "text": [
            "Epoch 155/170, Reconstruction Accuracy: 0.3527\n",
            "Model saved at checkpoints/best_model.pth (Loss: 0.3966, Epoch: 155)\n"
          ]
        },
        {
          "output_type": "stream",
          "name": "stderr",
          "text": [
            "Training Epoch 156/170: 100%|██████████| 40/40 [00:03<00:00, 11.05it/s]\n"
          ]
        },
        {
          "output_type": "stream",
          "name": "stdout",
          "text": [
            "Epoch 156/170, Loss: 0.3919\n"
          ]
        },
        {
          "output_type": "stream",
          "name": "stderr",
          "text": [
            "Evaluating: 100%|██████████| 5/5 [00:04<00:00,  1.21it/s]\n"
          ]
        },
        {
          "output_type": "stream",
          "name": "stdout",
          "text": [
            "Epoch 156/170, Reconstruction Accuracy: 0.3487\n",
            "Model saved at checkpoints/best_model.pth (Loss: 0.3919, Epoch: 156)\n"
          ]
        },
        {
          "output_type": "stream",
          "name": "stderr",
          "text": [
            "Training Epoch 157/170: 100%|██████████| 40/40 [00:03<00:00, 10.97it/s]\n"
          ]
        },
        {
          "output_type": "stream",
          "name": "stdout",
          "text": [
            "Epoch 157/170, Loss: 0.3833\n"
          ]
        },
        {
          "output_type": "stream",
          "name": "stderr",
          "text": [
            "Evaluating: 100%|██████████| 5/5 [00:04<00:00,  1.16it/s]\n"
          ]
        },
        {
          "output_type": "stream",
          "name": "stdout",
          "text": [
            "Epoch 157/170, Reconstruction Accuracy: 0.3547\n",
            "Model saved at checkpoints/best_model.pth (Loss: 0.3833, Epoch: 157)\n"
          ]
        },
        {
          "output_type": "stream",
          "name": "stderr",
          "text": [
            "Training Epoch 158/170: 100%|██████████| 40/40 [00:03<00:00, 11.06it/s]\n"
          ]
        },
        {
          "output_type": "stream",
          "name": "stdout",
          "text": [
            "Epoch 158/170, Loss: 0.3834\n"
          ]
        },
        {
          "output_type": "stream",
          "name": "stderr",
          "text": [
            "Evaluating: 100%|██████████| 5/5 [00:04<00:00,  1.03it/s]\n"
          ]
        },
        {
          "output_type": "stream",
          "name": "stdout",
          "text": [
            "Epoch 158/170, Reconstruction Accuracy: 0.3626\n"
          ]
        },
        {
          "output_type": "stream",
          "name": "stderr",
          "text": [
            "Training Epoch 159/170: 100%|██████████| 40/40 [00:03<00:00, 11.07it/s]\n"
          ]
        },
        {
          "output_type": "stream",
          "name": "stdout",
          "text": [
            "Epoch 159/170, Loss: 0.3741\n"
          ]
        },
        {
          "output_type": "stream",
          "name": "stderr",
          "text": [
            "Evaluating: 100%|██████████| 5/5 [00:04<00:00,  1.21it/s]\n"
          ]
        },
        {
          "output_type": "stream",
          "name": "stdout",
          "text": [
            "Epoch 159/170, Reconstruction Accuracy: 0.3538\n",
            "Model saved at checkpoints/best_model.pth (Loss: 0.3741, Epoch: 159)\n"
          ]
        },
        {
          "output_type": "stream",
          "name": "stderr",
          "text": [
            "Training Epoch 160/170: 100%|██████████| 40/40 [00:03<00:00, 11.03it/s]\n"
          ]
        },
        {
          "output_type": "stream",
          "name": "stdout",
          "text": [
            "Epoch 160/170, Loss: 0.3664\n"
          ]
        },
        {
          "output_type": "stream",
          "name": "stderr",
          "text": [
            "Evaluating: 100%|██████████| 5/5 [00:04<00:00,  1.14it/s]\n"
          ]
        },
        {
          "output_type": "stream",
          "name": "stdout",
          "text": [
            "Epoch 160/170, Reconstruction Accuracy: 0.3339\n",
            "Model saved at checkpoints/best_model.pth (Loss: 0.3664, Epoch: 160)\n"
          ]
        },
        {
          "output_type": "stream",
          "name": "stderr",
          "text": [
            "Training Epoch 161/170: 100%|██████████| 40/40 [00:03<00:00, 11.10it/s]\n"
          ]
        },
        {
          "output_type": "stream",
          "name": "stdout",
          "text": [
            "Epoch 161/170, Loss: 0.3608\n"
          ]
        },
        {
          "output_type": "stream",
          "name": "stderr",
          "text": [
            "Evaluating: 100%|██████████| 5/5 [00:04<00:00,  1.05it/s]\n"
          ]
        },
        {
          "output_type": "stream",
          "name": "stdout",
          "text": [
            "Epoch 161/170, Reconstruction Accuracy: 0.3687\n",
            "Model saved at checkpoints/best_model.pth (Loss: 0.3608, Epoch: 161)\n"
          ]
        },
        {
          "output_type": "stream",
          "name": "stderr",
          "text": [
            "Training Epoch 162/170: 100%|██████████| 40/40 [00:03<00:00, 11.05it/s]\n"
          ]
        },
        {
          "output_type": "stream",
          "name": "stdout",
          "text": [
            "Epoch 162/170, Loss: 0.3590\n"
          ]
        },
        {
          "output_type": "stream",
          "name": "stderr",
          "text": [
            "Evaluating: 100%|██████████| 5/5 [00:04<00:00,  1.21it/s]\n"
          ]
        },
        {
          "output_type": "stream",
          "name": "stdout",
          "text": [
            "Epoch 162/170, Reconstruction Accuracy: 0.3610\n",
            "Model saved at checkpoints/best_model.pth (Loss: 0.3590, Epoch: 162)\n"
          ]
        },
        {
          "output_type": "stream",
          "name": "stderr",
          "text": [
            "Training Epoch 163/170: 100%|██████████| 40/40 [00:03<00:00, 10.99it/s]\n"
          ]
        },
        {
          "output_type": "stream",
          "name": "stdout",
          "text": [
            "Epoch 163/170, Loss: 0.3539\n"
          ]
        },
        {
          "output_type": "stream",
          "name": "stderr",
          "text": [
            "Evaluating: 100%|██████████| 5/5 [00:04<00:00,  1.12it/s]\n"
          ]
        },
        {
          "output_type": "stream",
          "name": "stdout",
          "text": [
            "Epoch 163/170, Reconstruction Accuracy: 0.3719\n",
            "Model saved at checkpoints/best_model.pth (Loss: 0.3539, Epoch: 163)\n"
          ]
        },
        {
          "output_type": "stream",
          "name": "stderr",
          "text": [
            "Training Epoch 164/170: 100%|██████████| 40/40 [00:03<00:00, 11.06it/s]\n"
          ]
        },
        {
          "output_type": "stream",
          "name": "stdout",
          "text": [
            "Epoch 164/170, Loss: 0.3512\n"
          ]
        },
        {
          "output_type": "stream",
          "name": "stderr",
          "text": [
            "Evaluating: 100%|██████████| 5/5 [00:04<00:00,  1.06it/s]\n"
          ]
        },
        {
          "output_type": "stream",
          "name": "stdout",
          "text": [
            "Epoch 164/170, Reconstruction Accuracy: 0.3380\n",
            "Model saved at checkpoints/best_model.pth (Loss: 0.3512, Epoch: 164)\n"
          ]
        },
        {
          "output_type": "stream",
          "name": "stderr",
          "text": [
            "Training Epoch 165/170: 100%|██████████| 40/40 [00:03<00:00, 11.03it/s]\n"
          ]
        },
        {
          "output_type": "stream",
          "name": "stdout",
          "text": [
            "Epoch 165/170, Loss: 0.3483\n"
          ]
        },
        {
          "output_type": "stream",
          "name": "stderr",
          "text": [
            "Evaluating: 100%|██████████| 5/5 [00:04<00:00,  1.21it/s]\n"
          ]
        },
        {
          "output_type": "stream",
          "name": "stdout",
          "text": [
            "Epoch 165/170, Reconstruction Accuracy: 0.3502\n",
            "Model saved at checkpoints/best_model.pth (Loss: 0.3483, Epoch: 165)\n"
          ]
        },
        {
          "output_type": "stream",
          "name": "stderr",
          "text": [
            "Training Epoch 166/170: 100%|██████████| 40/40 [00:03<00:00, 10.99it/s]\n"
          ]
        },
        {
          "output_type": "stream",
          "name": "stdout",
          "text": [
            "Epoch 166/170, Loss: 0.3472\n"
          ]
        },
        {
          "output_type": "stream",
          "name": "stderr",
          "text": [
            "Evaluating: 100%|██████████| 5/5 [00:04<00:00,  1.13it/s]\n"
          ]
        },
        {
          "output_type": "stream",
          "name": "stdout",
          "text": [
            "Epoch 166/170, Reconstruction Accuracy: 0.3423\n",
            "Model saved at checkpoints/best_model.pth (Loss: 0.3472, Epoch: 166)\n"
          ]
        },
        {
          "output_type": "stream",
          "name": "stderr",
          "text": [
            "Training Epoch 167/170: 100%|██████████| 40/40 [00:03<00:00, 11.05it/s]\n"
          ]
        },
        {
          "output_type": "stream",
          "name": "stdout",
          "text": [
            "Epoch 167/170, Loss: 0.3473\n"
          ]
        },
        {
          "output_type": "stream",
          "name": "stderr",
          "text": [
            "Evaluating: 100%|██████████| 5/5 [00:04<00:00,  1.06it/s]\n"
          ]
        },
        {
          "output_type": "stream",
          "name": "stdout",
          "text": [
            "Epoch 167/170, Reconstruction Accuracy: 0.3612\n"
          ]
        },
        {
          "output_type": "stream",
          "name": "stderr",
          "text": [
            "Training Epoch 168/170: 100%|██████████| 40/40 [00:03<00:00, 11.04it/s]\n"
          ]
        },
        {
          "output_type": "stream",
          "name": "stdout",
          "text": [
            "Epoch 168/170, Loss: 0.3419\n"
          ]
        },
        {
          "output_type": "stream",
          "name": "stderr",
          "text": [
            "Evaluating: 100%|██████████| 5/5 [00:04<00:00,  1.20it/s]\n"
          ]
        },
        {
          "output_type": "stream",
          "name": "stdout",
          "text": [
            "Epoch 168/170, Reconstruction Accuracy: 0.3606\n",
            "Model saved at checkpoints/best_model.pth (Loss: 0.3419, Epoch: 168)\n"
          ]
        },
        {
          "output_type": "stream",
          "name": "stderr",
          "text": [
            "Training Epoch 169/170: 100%|██████████| 40/40 [00:03<00:00, 11.02it/s]\n"
          ]
        },
        {
          "output_type": "stream",
          "name": "stdout",
          "text": [
            "Epoch 169/170, Loss: 0.3348\n"
          ]
        },
        {
          "output_type": "stream",
          "name": "stderr",
          "text": [
            "Evaluating: 100%|██████████| 5/5 [00:04<00:00,  1.12it/s]\n"
          ]
        },
        {
          "output_type": "stream",
          "name": "stdout",
          "text": [
            "Epoch 169/170, Reconstruction Accuracy: 0.3495\n",
            "Model saved at checkpoints/best_model.pth (Loss: 0.3348, Epoch: 169)\n"
          ]
        },
        {
          "output_type": "stream",
          "name": "stderr",
          "text": [
            "Training Epoch 170/170: 100%|██████████| 40/40 [00:03<00:00, 11.07it/s]\n"
          ]
        },
        {
          "output_type": "stream",
          "name": "stdout",
          "text": [
            "Epoch 170/170, Loss: 0.3424\n"
          ]
        },
        {
          "output_type": "stream",
          "name": "stderr",
          "text": [
            "Evaluating: 100%|██████████| 5/5 [00:04<00:00,  1.06it/s]"
          ]
        },
        {
          "output_type": "stream",
          "name": "stdout",
          "text": [
            "Epoch 170/170, Reconstruction Accuracy: 0.3620\n"
          ]
        },
        {
          "output_type": "stream",
          "name": "stderr",
          "text": [
            "\n"
          ]
        }
      ]
    },
    {
      "cell_type": "markdown",
      "source": [
        "### Inference"
      ],
      "metadata": {
        "id": "mNEXUdGBo5eK"
      }
    },
    {
      "cell_type": "code",
      "source": [
        "# Load the best model from the saved checkpoint\n",
        "best_model_path = os.path.join(save_dir, \"best_model.pth\")              # Path to the best model checkpoint\n",
        "checkpoint = torch.load(best_model_path, weights_only=True, map_location=device)  # Load checkpoint from the file\n",
        "model.load_state_dict(checkpoint[\"model_state_dict\"])                  # Load the model weights from checkpoint\n",
        "model.eval()                                        # Set the model to evaluation mode (disables dropout, etc.)\n",
        "\n",
        "# Testing Loop with Batch Inference\n",
        "results: list = []  # List to store the generated sequences from the model\n",
        "\n",
        "with torch.no_grad():  # Disable gradient calculations for inference\n",
        "    # Iterate over test data in batches\n",
        "    for inputs in tqdm(test_dataloader, desc=\"Generating Outputs\"):\n",
        "        inputs = inputs.to(device)         # Move model to the appropriate device (GPU or CPU)\n",
        "        attention_mask = torch.ones_like(inputs)  # Attention mask (ensure valid token positions)\n",
        "\n",
        "        # Generate predictions for the entire batch\n",
        "        generated_outputs = model.generate(inputs, attention_mask=attention_mask, max_length=400)\n",
        "\n",
        "        # Convert batch outputs to a list and append to results\n",
        "        batch_results = generated_outputs.cpu().numpy().tolist()\n",
        "        results.extend(batch_results)  # Extend the results list with batch results\n",
        "\n",
        "# Save the results to a file\n",
        "output_file: str = \"reconstructed_results.txt\"  # File to save the output sequences\n",
        "with open(output_file, \"w\") as f:\n",
        "    # Write each sequence to the file\n",
        "    for seq in results:\n",
        "        f.write(\" \".join(map(str, seq)) + \"\\n\")\n",
        "\n",
        "print(f\"Reconstructed results saved to {output_file}\")  # Confirmation message"
      ],
      "metadata": {
        "colab": {
          "base_uri": "https://localhost:8080/"
        },
        "id": "D-A5aGBRGR4q",
        "outputId": "4b75fff4-3d2b-488d-a242-7588b92501f9"
      },
      "execution_count": 31,
      "outputs": [
        {
          "output_type": "stream",
          "name": "stderr",
          "text": [
            "Generating Outputs: 100%|██████████| 5/5 [00:04<00:00,  1.19it/s]"
          ]
        },
        {
          "output_type": "stream",
          "name": "stdout",
          "text": [
            "Reconstructed results saved to reconstructed_results.txt\n"
          ]
        },
        {
          "output_type": "stream",
          "name": "stderr",
          "text": [
            "\n"
          ]
        }
      ]
    },
    {
      "cell_type": "code",
      "source": [
        "# Visualize generated test images\n",
        "predicted_images = [pixel_to_image(sequence, colormap) for sequence in results]\n",
        "show_images(predicted_images)"
      ],
      "metadata": {
        "colab": {
          "base_uri": "https://localhost:8080/",
          "height": 572
        },
        "id": "xPxOAnFHIxfb",
        "outputId": "10a4cd5b-2013-418a-8c58-6c4467dd150c"
      },
      "execution_count": 32,
      "outputs": [
        {
          "output_type": "display_data",
          "data": {
            "text/plain": [
              "<Figure size 1600x600 with 96 Axes>"
            ],
            "image/png": "[encoded data removed]"
          },
          "metadata": {}
        }
      ]
    }
  ]
}